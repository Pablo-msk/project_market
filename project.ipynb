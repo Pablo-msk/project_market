{
 "cells": [
  {
   "cell_type": "markdown",
   "id": "16a2de98",
   "metadata": {
    "toc": true
   },
   "source": [
    "<h1>Table of Contents<span class=\"tocSkip\"></span></h1>\n",
    "<div class=\"toc\"><ul class=\"toc-item\"><li><span><a href=\"#Описание-проекта\" data-toc-modified-id=\"Описание-проекта-1\"><span class=\"toc-item-num\">1&nbsp;&nbsp;</span>Описание проекта</a></span></li><li><span><a href=\"#Предобработка-данных\" data-toc-modified-id=\"Предобработка-данных-2\"><span class=\"toc-item-num\">2&nbsp;&nbsp;</span>Предобработка данных</a></span></li><li><span><a href=\"#Корреляционный-анализ\" data-toc-modified-id=\"Корреляционный-анализ-3\"><span class=\"toc-item-num\">3&nbsp;&nbsp;</span>Корреляционный анализ</a></span></li><li><span><a href=\"#Обучение-моделей\" data-toc-modified-id=\"Обучение-моделей-4\"><span class=\"toc-item-num\">4&nbsp;&nbsp;</span>Обучение моделей</a></span></li><li><span><a href=\"#Выводы\" data-toc-modified-id=\"Выводы-5\"><span class=\"toc-item-num\">5&nbsp;&nbsp;</span>Выводы</a></span></li></ul></div>"
   ]
  },
  {
   "cell_type": "markdown",
   "id": "0f09cbee",
   "metadata": {},
   "source": [
    "## Описание проекта"
   ]
  },
  {
   "cell_type": "markdown",
   "id": "75da7ae0",
   "metadata": {},
   "source": [
    "Интернет-магазин собирает историю покупателей, проводит рассылки предложений и \n",
    "планирует будущие продажи. Для оптимизации процессов надо выделить пользователей, \n",
    "которые готовы совершить покупку в ближайшее время. \n",
    "\n",
    "Цель: Предсказать вероятность покупки в течение 90 дней.\n",
    "\n",
    "Предоставлены три файла с данными."
   ]
  },
  {
   "cell_type": "markdown",
   "id": "de9fd957",
   "metadata": {},
   "source": [
    "## Предобработка данных"
   ]
  },
  {
   "cell_type": "markdown",
   "id": "f830e00a",
   "metadata": {},
   "source": [
    "Загрузим необходимые ресурсы и объявим константы"
   ]
  },
  {
   "cell_type": "code",
   "execution_count": 1,
   "id": "3b90d654",
   "metadata": {
    "scrolled": true
   },
   "outputs": [
    {
     "name": "stdout",
     "output_type": "stream",
     "text": [
      "Requirement already satisfied: phik in c:\\users\\123\\anaconda3\\lib\\site-packages (0.12.4)\n",
      "Requirement already satisfied: numpy>=1.18.0 in c:\\users\\123\\anaconda3\\lib\\site-packages (from phik) (1.24.3)\n",
      "Requirement already satisfied: scipy>=1.5.2 in c:\\users\\123\\anaconda3\\lib\\site-packages (from phik) (1.11.1)\n",
      "Requirement already satisfied: pandas>=0.25.1 in c:\\users\\123\\anaconda3\\lib\\site-packages (from phik) (2.1.4)\n",
      "Requirement already satisfied: matplotlib>=2.2.3 in c:\\users\\123\\anaconda3\\lib\\site-packages (from phik) (3.7.2)\n",
      "Requirement already satisfied: joblib>=0.14.1 in c:\\users\\123\\anaconda3\\lib\\site-packages (from phik) (1.2.0)\n",
      "Requirement already satisfied: contourpy>=1.0.1 in c:\\users\\123\\anaconda3\\lib\\site-packages (from matplotlib>=2.2.3->phik) (1.0.5)\n",
      "Requirement already satisfied: cycler>=0.10 in c:\\users\\123\\anaconda3\\lib\\site-packages (from matplotlib>=2.2.3->phik) (0.11.0)\n",
      "Requirement already satisfied: fonttools>=4.22.0 in c:\\users\\123\\anaconda3\\lib\\site-packages (from matplotlib>=2.2.3->phik) (4.25.0)\n",
      "Requirement already satisfied: kiwisolver>=1.0.1 in c:\\users\\123\\anaconda3\\lib\\site-packages (from matplotlib>=2.2.3->phik) (1.4.4)\n",
      "Requirement already satisfied: packaging>=20.0 in c:\\users\\123\\anaconda3\\lib\\site-packages (from matplotlib>=2.2.3->phik) (24.1)\n",
      "Requirement already satisfied: pillow>=6.2.0 in c:\\users\\123\\anaconda3\\lib\\site-packages (from matplotlib>=2.2.3->phik) (9.4.0)\n",
      "Requirement already satisfied: pyparsing<3.1,>=2.3.1 in c:\\users\\123\\anaconda3\\lib\\site-packages (from matplotlib>=2.2.3->phik) (3.0.9)\n",
      "Requirement already satisfied: python-dateutil>=2.7 in c:\\users\\123\\anaconda3\\lib\\site-packages (from matplotlib>=2.2.3->phik) (2.8.2)\n",
      "Requirement already satisfied: pytz>=2020.1 in c:\\users\\123\\anaconda3\\lib\\site-packages (from pandas>=0.25.1->phik) (2023.3.post1)\n",
      "Requirement already satisfied: tzdata>=2022.1 in c:\\users\\123\\anaconda3\\lib\\site-packages (from pandas>=0.25.1->phik) (2023.3)\n",
      "Requirement already satisfied: six>=1.5 in c:\\users\\123\\anaconda3\\lib\\site-packages (from python-dateutil>=2.7->matplotlib>=2.2.3->phik) (1.16.0)\n"
     ]
    }
   ],
   "source": [
    "!pip install phik \n",
    "!pip freeze > requirements.txt\n",
    "\n",
    "import pandas as pd\n",
    "from matplotlib import pyplot as plt\n",
    "import seaborn as sns \n",
    "import numpy as np\n",
    "import phik\n",
    "import warnings\n",
    "warnings.filterwarnings(\"ignore\")\n",
    "\n",
    "from phik import phik_matrix\n",
    "from phik.report import plot_correlation_matrix\n",
    "\n",
    "from sklearn.model_selection import train_test_split\n",
    "from sklearn.pipeline import Pipeline\n",
    "from sklearn.compose import ColumnTransformer\n",
    "from sklearn.preprocessing import (\n",
    "    OneHotEncoder,\n",
    "    OrdinalEncoder, \n",
    "    StandardScaler, \n",
    "    MinMaxScaler,\n",
    "    RobustScaler,\n",
    "    LabelEncoder\n",
    ")\n",
    "from sklearn.model_selection import GridSearchCV\n",
    "from sklearn.impute import SimpleImputer\n",
    "from sklearn.metrics import roc_auc_score\n",
    "from sklearn.tree import DecisionTreeClassifier\n",
    "from sklearn.neighbors import KNeighborsClassifier\n",
    "from sklearn.linear_model import LogisticRegression\n",
    "\n",
    "\n",
    "RANDOM_STATE = 42\n",
    "TEST_SIZE = 0.25"
   ]
  },
  {
   "cell_type": "markdown",
   "id": "788a3ad3",
   "metadata": {},
   "source": [
    "Загрузим датафреймы"
   ]
  },
  {
   "cell_type": "code",
   "execution_count": 2,
   "id": "2c41fa6c",
   "metadata": {},
   "outputs": [],
   "source": [
    "purchases = pd.read_csv('apparel-purchases.csv')\n",
    "purchases.name = 'Данные о покупках клиентов'\n",
    "\n",
    "messages = pd.read_csv('apparel-messages.csv')\n",
    "messages.name = 'Данные о рассылках клиентам'\n",
    "\n",
    "target = pd.read_csv('apparel-target_binary.csv')\n",
    "target.name = 'Данные о целевом признаке'\n"
   ]
  },
  {
   "cell_type": "markdown",
   "id": "adbe1d63",
   "metadata": {},
   "source": [
    "Определим функцию для получения первичной информации о датасетах"
   ]
  },
  {
   "cell_type": "code",
   "execution_count": 3,
   "id": "0beefff3",
   "metadata": {},
   "outputs": [],
   "source": [
    "def data_look(data):\n",
    "    print(f'                  Общая информация о датафрейме ____ {data.name}\\n')\n",
    "    display(data.info())\n",
    "    display(data.head())\n",
    "    print('                   Количество пропусков по столбцам')\n",
    "    display(data.isna().sum())\n",
    "    print(f'                  Количество явных дубликатов {data.duplicated().sum()}, в процентном соотношении {data.duplicated().sum() / data.shape[0] * 100:.2f}%')\n",
    "    print('\\n                  Количество уникальных значений признаков')\n",
    "    display(data.nunique())\n",
    "    "
   ]
  },
  {
   "cell_type": "code",
   "execution_count": 4,
   "id": "f5558e59",
   "metadata": {
    "scrolled": false
   },
   "outputs": [
    {
     "name": "stdout",
     "output_type": "stream",
     "text": [
      "                  Общая информация о датафрейме ____ Данные о покупках клиентов\n",
      "\n",
      "<class 'pandas.core.frame.DataFrame'>\n",
      "RangeIndex: 202208 entries, 0 to 202207\n",
      "Data columns (total 6 columns):\n",
      " #   Column        Non-Null Count   Dtype  \n",
      "---  ------        --------------   -----  \n",
      " 0   client_id     202208 non-null  int64  \n",
      " 1   quantity      202208 non-null  int64  \n",
      " 2   price         202208 non-null  float64\n",
      " 3   category_ids  202208 non-null  object \n",
      " 4   date          202208 non-null  object \n",
      " 5   message_id    202208 non-null  object \n",
      "dtypes: float64(1), int64(2), object(3)\n",
      "memory usage: 9.3+ MB\n"
     ]
    },
    {
     "data": {
      "text/plain": [
       "None"
      ]
     },
     "metadata": {},
     "output_type": "display_data"
    },
    {
     "data": {
      "text/html": [
       "<div>\n",
       "<style scoped>\n",
       "    .dataframe tbody tr th:only-of-type {\n",
       "        vertical-align: middle;\n",
       "    }\n",
       "\n",
       "    .dataframe tbody tr th {\n",
       "        vertical-align: top;\n",
       "    }\n",
       "\n",
       "    .dataframe thead th {\n",
       "        text-align: right;\n",
       "    }\n",
       "</style>\n",
       "<table border=\"1\" class=\"dataframe\">\n",
       "  <thead>\n",
       "    <tr style=\"text-align: right;\">\n",
       "      <th></th>\n",
       "      <th>client_id</th>\n",
       "      <th>quantity</th>\n",
       "      <th>price</th>\n",
       "      <th>category_ids</th>\n",
       "      <th>date</th>\n",
       "      <th>message_id</th>\n",
       "    </tr>\n",
       "  </thead>\n",
       "  <tbody>\n",
       "    <tr>\n",
       "      <th>0</th>\n",
       "      <td>1515915625468169594</td>\n",
       "      <td>1</td>\n",
       "      <td>1999.0</td>\n",
       "      <td>['4', '28', '57', '431']</td>\n",
       "      <td>2022-05-16</td>\n",
       "      <td>1515915625468169594-4301-627b661e9736d</td>\n",
       "    </tr>\n",
       "    <tr>\n",
       "      <th>1</th>\n",
       "      <td>1515915625468169594</td>\n",
       "      <td>1</td>\n",
       "      <td>2499.0</td>\n",
       "      <td>['4', '28', '57', '431']</td>\n",
       "      <td>2022-05-16</td>\n",
       "      <td>1515915625468169594-4301-627b661e9736d</td>\n",
       "    </tr>\n",
       "    <tr>\n",
       "      <th>2</th>\n",
       "      <td>1515915625471138230</td>\n",
       "      <td>1</td>\n",
       "      <td>6499.0</td>\n",
       "      <td>['4', '28', '57', '431']</td>\n",
       "      <td>2022-05-16</td>\n",
       "      <td>1515915625471138230-4437-6282242f27843</td>\n",
       "    </tr>\n",
       "    <tr>\n",
       "      <th>3</th>\n",
       "      <td>1515915625471138230</td>\n",
       "      <td>1</td>\n",
       "      <td>4999.0</td>\n",
       "      <td>['4', '28', '244', '432']</td>\n",
       "      <td>2022-05-16</td>\n",
       "      <td>1515915625471138230-4437-6282242f27843</td>\n",
       "    </tr>\n",
       "    <tr>\n",
       "      <th>4</th>\n",
       "      <td>1515915625471138230</td>\n",
       "      <td>1</td>\n",
       "      <td>4999.0</td>\n",
       "      <td>['4', '28', '49', '413']</td>\n",
       "      <td>2022-05-16</td>\n",
       "      <td>1515915625471138230-4437-6282242f27843</td>\n",
       "    </tr>\n",
       "  </tbody>\n",
       "</table>\n",
       "</div>"
      ],
      "text/plain": [
       "             client_id  quantity   price               category_ids  \\\n",
       "0  1515915625468169594         1  1999.0   ['4', '28', '57', '431']   \n",
       "1  1515915625468169594         1  2499.0   ['4', '28', '57', '431']   \n",
       "2  1515915625471138230         1  6499.0   ['4', '28', '57', '431']   \n",
       "3  1515915625471138230         1  4999.0  ['4', '28', '244', '432']   \n",
       "4  1515915625471138230         1  4999.0   ['4', '28', '49', '413']   \n",
       "\n",
       "         date                              message_id  \n",
       "0  2022-05-16  1515915625468169594-4301-627b661e9736d  \n",
       "1  2022-05-16  1515915625468169594-4301-627b661e9736d  \n",
       "2  2022-05-16  1515915625471138230-4437-6282242f27843  \n",
       "3  2022-05-16  1515915625471138230-4437-6282242f27843  \n",
       "4  2022-05-16  1515915625471138230-4437-6282242f27843  "
      ]
     },
     "metadata": {},
     "output_type": "display_data"
    },
    {
     "name": "stdout",
     "output_type": "stream",
     "text": [
      "                   Количество пропусков по столбцам\n"
     ]
    },
    {
     "data": {
      "text/plain": [
       "client_id       0\n",
       "quantity        0\n",
       "price           0\n",
       "category_ids    0\n",
       "date            0\n",
       "message_id      0\n",
       "dtype: int64"
      ]
     },
     "metadata": {},
     "output_type": "display_data"
    },
    {
     "name": "stdout",
     "output_type": "stream",
     "text": [
      "                  Количество явных дубликатов 73020, в процентном соотношении 36.11%\n",
      "\n",
      "                  Количество уникальных значений признаков\n"
     ]
    },
    {
     "data": {
      "text/plain": [
       "client_id       49849\n",
       "quantity           16\n",
       "price            3642\n",
       "category_ids      933\n",
       "date              642\n",
       "message_id      50204\n",
       "dtype: int64"
      ]
     },
     "metadata": {},
     "output_type": "display_data"
    }
   ],
   "source": [
    "data_look(purchases)"
   ]
  },
  {
   "cell_type": "markdown",
   "id": "5aced99a",
   "metadata": {},
   "source": [
    "Пропусков нет, явных дубликатов 36 процентов, однако нет данных о точном времени, пока оставим."
   ]
  },
  {
   "cell_type": "code",
   "execution_count": 5,
   "id": "c46e978e",
   "metadata": {},
   "outputs": [
    {
     "name": "stdout",
     "output_type": "stream",
     "text": [
      "                  Общая информация о датафрейме ____ Данные о рассылках клиентам\n",
      "\n",
      "<class 'pandas.core.frame.DataFrame'>\n",
      "RangeIndex: 12739798 entries, 0 to 12739797\n",
      "Data columns (total 7 columns):\n",
      " #   Column            Dtype \n",
      "---  ------            ----- \n",
      " 0   bulk_campaign_id  int64 \n",
      " 1   client_id         int64 \n",
      " 2   message_id        object\n",
      " 3   event             object\n",
      " 4   channel           object\n",
      " 5   date              object\n",
      " 6   created_at        object\n",
      "dtypes: int64(2), object(5)\n",
      "memory usage: 680.4+ MB\n"
     ]
    },
    {
     "data": {
      "text/plain": [
       "None"
      ]
     },
     "metadata": {},
     "output_type": "display_data"
    },
    {
     "data": {
      "text/html": [
       "<div>\n",
       "<style scoped>\n",
       "    .dataframe tbody tr th:only-of-type {\n",
       "        vertical-align: middle;\n",
       "    }\n",
       "\n",
       "    .dataframe tbody tr th {\n",
       "        vertical-align: top;\n",
       "    }\n",
       "\n",
       "    .dataframe thead th {\n",
       "        text-align: right;\n",
       "    }\n",
       "</style>\n",
       "<table border=\"1\" class=\"dataframe\">\n",
       "  <thead>\n",
       "    <tr style=\"text-align: right;\">\n",
       "      <th></th>\n",
       "      <th>bulk_campaign_id</th>\n",
       "      <th>client_id</th>\n",
       "      <th>message_id</th>\n",
       "      <th>event</th>\n",
       "      <th>channel</th>\n",
       "      <th>date</th>\n",
       "      <th>created_at</th>\n",
       "    </tr>\n",
       "  </thead>\n",
       "  <tbody>\n",
       "    <tr>\n",
       "      <th>0</th>\n",
       "      <td>4439</td>\n",
       "      <td>1515915625626736623</td>\n",
       "      <td>1515915625626736623-4439-6283415ac07ea</td>\n",
       "      <td>open</td>\n",
       "      <td>email</td>\n",
       "      <td>2022-05-19</td>\n",
       "      <td>2022-05-19 00:14:20</td>\n",
       "    </tr>\n",
       "    <tr>\n",
       "      <th>1</th>\n",
       "      <td>4439</td>\n",
       "      <td>1515915625490086521</td>\n",
       "      <td>1515915625490086521-4439-62834150016dd</td>\n",
       "      <td>open</td>\n",
       "      <td>email</td>\n",
       "      <td>2022-05-19</td>\n",
       "      <td>2022-05-19 00:39:34</td>\n",
       "    </tr>\n",
       "    <tr>\n",
       "      <th>2</th>\n",
       "      <td>4439</td>\n",
       "      <td>1515915625553578558</td>\n",
       "      <td>1515915625553578558-4439-6283415b36b4f</td>\n",
       "      <td>open</td>\n",
       "      <td>email</td>\n",
       "      <td>2022-05-19</td>\n",
       "      <td>2022-05-19 00:51:49</td>\n",
       "    </tr>\n",
       "    <tr>\n",
       "      <th>3</th>\n",
       "      <td>4439</td>\n",
       "      <td>1515915625553578558</td>\n",
       "      <td>1515915625553578558-4439-6283415b36b4f</td>\n",
       "      <td>click</td>\n",
       "      <td>email</td>\n",
       "      <td>2022-05-19</td>\n",
       "      <td>2022-05-19 00:52:20</td>\n",
       "    </tr>\n",
       "    <tr>\n",
       "      <th>4</th>\n",
       "      <td>4439</td>\n",
       "      <td>1515915625471518311</td>\n",
       "      <td>1515915625471518311-4439-628341570c133</td>\n",
       "      <td>open</td>\n",
       "      <td>email</td>\n",
       "      <td>2022-05-19</td>\n",
       "      <td>2022-05-19 00:56:52</td>\n",
       "    </tr>\n",
       "  </tbody>\n",
       "</table>\n",
       "</div>"
      ],
      "text/plain": [
       "   bulk_campaign_id            client_id  \\\n",
       "0              4439  1515915625626736623   \n",
       "1              4439  1515915625490086521   \n",
       "2              4439  1515915625553578558   \n",
       "3              4439  1515915625553578558   \n",
       "4              4439  1515915625471518311   \n",
       "\n",
       "                               message_id  event channel        date  \\\n",
       "0  1515915625626736623-4439-6283415ac07ea   open   email  2022-05-19   \n",
       "1  1515915625490086521-4439-62834150016dd   open   email  2022-05-19   \n",
       "2  1515915625553578558-4439-6283415b36b4f   open   email  2022-05-19   \n",
       "3  1515915625553578558-4439-6283415b36b4f  click   email  2022-05-19   \n",
       "4  1515915625471518311-4439-628341570c133   open   email  2022-05-19   \n",
       "\n",
       "            created_at  \n",
       "0  2022-05-19 00:14:20  \n",
       "1  2022-05-19 00:39:34  \n",
       "2  2022-05-19 00:51:49  \n",
       "3  2022-05-19 00:52:20  \n",
       "4  2022-05-19 00:56:52  "
      ]
     },
     "metadata": {},
     "output_type": "display_data"
    },
    {
     "name": "stdout",
     "output_type": "stream",
     "text": [
      "                   Количество пропусков по столбцам\n"
     ]
    },
    {
     "data": {
      "text/plain": [
       "bulk_campaign_id    0\n",
       "client_id           0\n",
       "message_id          0\n",
       "event               0\n",
       "channel             0\n",
       "date                0\n",
       "created_at          0\n",
       "dtype: int64"
      ]
     },
     "metadata": {},
     "output_type": "display_data"
    },
    {
     "name": "stdout",
     "output_type": "stream",
     "text": [
      "                  Количество явных дубликатов 48610, в процентном соотношении 0.38%\n",
      "\n",
      "                  Количество уникальных значений признаков\n"
     ]
    },
    {
     "data": {
      "text/plain": [
       "bulk_campaign_id       2709\n",
       "client_id             53329\n",
       "message_id          9061667\n",
       "event                    11\n",
       "channel                   2\n",
       "date                    638\n",
       "created_at          4103539\n",
       "dtype: int64"
      ]
     },
     "metadata": {},
     "output_type": "display_data"
    }
   ],
   "source": [
    "data_look(messages)"
   ]
  },
  {
   "cell_type": "markdown",
   "id": "138112c4",
   "metadata": {},
   "source": [
    "Пропусков нет, явных дубликатов 0.38 процентов, однако есть поле с временем создания, можно удалить явные дубликаты."
   ]
  },
  {
   "cell_type": "code",
   "execution_count": 6,
   "id": "f394662d",
   "metadata": {},
   "outputs": [],
   "source": [
    "messages.drop_duplicates(inplace=True)"
   ]
  },
  {
   "cell_type": "code",
   "execution_count": 7,
   "id": "cd723cef",
   "metadata": {
    "scrolled": true
   },
   "outputs": [
    {
     "name": "stdout",
     "output_type": "stream",
     "text": [
      "                  Общая информация о датафрейме ____ Данные о целевом признаке\n",
      "\n",
      "<class 'pandas.core.frame.DataFrame'>\n",
      "RangeIndex: 49849 entries, 0 to 49848\n",
      "Data columns (total 2 columns):\n",
      " #   Column     Non-Null Count  Dtype\n",
      "---  ------     --------------  -----\n",
      " 0   client_id  49849 non-null  int64\n",
      " 1   target     49849 non-null  int64\n",
      "dtypes: int64(2)\n",
      "memory usage: 779.0 KB\n"
     ]
    },
    {
     "data": {
      "text/plain": [
       "None"
      ]
     },
     "metadata": {},
     "output_type": "display_data"
    },
    {
     "data": {
      "text/html": [
       "<div>\n",
       "<style scoped>\n",
       "    .dataframe tbody tr th:only-of-type {\n",
       "        vertical-align: middle;\n",
       "    }\n",
       "\n",
       "    .dataframe tbody tr th {\n",
       "        vertical-align: top;\n",
       "    }\n",
       "\n",
       "    .dataframe thead th {\n",
       "        text-align: right;\n",
       "    }\n",
       "</style>\n",
       "<table border=\"1\" class=\"dataframe\">\n",
       "  <thead>\n",
       "    <tr style=\"text-align: right;\">\n",
       "      <th></th>\n",
       "      <th>client_id</th>\n",
       "      <th>target</th>\n",
       "    </tr>\n",
       "  </thead>\n",
       "  <tbody>\n",
       "    <tr>\n",
       "      <th>0</th>\n",
       "      <td>1515915625468060902</td>\n",
       "      <td>0</td>\n",
       "    </tr>\n",
       "    <tr>\n",
       "      <th>1</th>\n",
       "      <td>1515915625468061003</td>\n",
       "      <td>1</td>\n",
       "    </tr>\n",
       "    <tr>\n",
       "      <th>2</th>\n",
       "      <td>1515915625468061099</td>\n",
       "      <td>0</td>\n",
       "    </tr>\n",
       "    <tr>\n",
       "      <th>3</th>\n",
       "      <td>1515915625468061100</td>\n",
       "      <td>0</td>\n",
       "    </tr>\n",
       "    <tr>\n",
       "      <th>4</th>\n",
       "      <td>1515915625468061170</td>\n",
       "      <td>0</td>\n",
       "    </tr>\n",
       "  </tbody>\n",
       "</table>\n",
       "</div>"
      ],
      "text/plain": [
       "             client_id  target\n",
       "0  1515915625468060902       0\n",
       "1  1515915625468061003       1\n",
       "2  1515915625468061099       0\n",
       "3  1515915625468061100       0\n",
       "4  1515915625468061170       0"
      ]
     },
     "metadata": {},
     "output_type": "display_data"
    },
    {
     "name": "stdout",
     "output_type": "stream",
     "text": [
      "                   Количество пропусков по столбцам\n"
     ]
    },
    {
     "data": {
      "text/plain": [
       "client_id    0\n",
       "target       0\n",
       "dtype: int64"
      ]
     },
     "metadata": {},
     "output_type": "display_data"
    },
    {
     "name": "stdout",
     "output_type": "stream",
     "text": [
      "                  Количество явных дубликатов 0, в процентном соотношении 0.00%\n",
      "\n",
      "                  Количество уникальных значений признаков\n"
     ]
    },
    {
     "data": {
      "text/plain": [
       "client_id    49849\n",
       "target           2\n",
       "dtype: int64"
      ]
     },
     "metadata": {},
     "output_type": "display_data"
    }
   ],
   "source": [
    "data_look(target)"
   ]
  },
  {
   "cell_type": "markdown",
   "id": "bee6228e",
   "metadata": {},
   "source": [
    "Пропусков нет, явных дубликатов нет. Посмотрим распределение целевого признака."
   ]
  },
  {
   "cell_type": "code",
   "execution_count": 8,
   "id": "8dde92ff",
   "metadata": {},
   "outputs": [
    {
     "data": {
      "text/plain": [
       "target\n",
       "0    48888\n",
       "1      961\n",
       "Name: count, dtype: int64"
      ]
     },
     "execution_count": 8,
     "metadata": {},
     "output_type": "execute_result"
    }
   ],
   "source": [
    "target.target.value_counts()"
   ]
  },
  {
   "cell_type": "markdown",
   "id": "685b0eb0",
   "metadata": {},
   "source": [
    "Выявлен явный дисбаланс целевого признака, будем учитывать это при обучении моделей."
   ]
  },
  {
   "cell_type": "markdown",
   "id": "f7a65bda",
   "metadata": {},
   "source": [
    "Перейдем к анализу распределения полей client_id. Количество уникальных значений в датасете purchases и target совпадает и равняется 49849. Проверим совпадают ли их значения."
   ]
  },
  {
   "cell_type": "code",
   "execution_count": 9,
   "id": "ba49f30b",
   "metadata": {},
   "outputs": [
    {
     "data": {
      "text/html": [
       "<div>\n",
       "<style scoped>\n",
       "    .dataframe tbody tr th:only-of-type {\n",
       "        vertical-align: middle;\n",
       "    }\n",
       "\n",
       "    .dataframe tbody tr th {\n",
       "        vertical-align: top;\n",
       "    }\n",
       "\n",
       "    .dataframe thead th {\n",
       "        text-align: right;\n",
       "    }\n",
       "</style>\n",
       "<table border=\"1\" class=\"dataframe\">\n",
       "  <thead>\n",
       "    <tr style=\"text-align: right;\">\n",
       "      <th></th>\n",
       "      <th>client_id</th>\n",
       "      <th>quantity</th>\n",
       "      <th>price</th>\n",
       "      <th>category_ids</th>\n",
       "      <th>date</th>\n",
       "      <th>message_id</th>\n",
       "    </tr>\n",
       "  </thead>\n",
       "  <tbody>\n",
       "  </tbody>\n",
       "</table>\n",
       "</div>"
      ],
      "text/plain": [
       "Empty DataFrame\n",
       "Columns: [client_id, quantity, price, category_ids, date, message_id]\n",
       "Index: []"
      ]
     },
     "execution_count": 9,
     "metadata": {},
     "output_type": "execute_result"
    }
   ],
   "source": [
    "purchases[~purchases['client_id'].isin(target['client_id'])]"
   ]
  },
  {
   "cell_type": "markdown",
   "id": "2504a57b",
   "metadata": {},
   "source": [
    "Значения совпадают, можно после некоторой группировки объединять датасеты по полю client_id."
   ]
  },
  {
   "cell_type": "markdown",
   "id": "60544684",
   "metadata": {},
   "source": [
    "В датасете messages 53329 уникальных значения поля client_id. Проверим их совпадение и выведем число отличных client_id."
   ]
  },
  {
   "cell_type": "code",
   "execution_count": 10,
   "id": "65d90e67",
   "metadata": {},
   "outputs": [
    {
     "data": {
      "text/plain": [
       "11347"
      ]
     },
     "execution_count": 10,
     "metadata": {},
     "output_type": "execute_result"
    }
   ],
   "source": [
    "messages[~messages['client_id'].isin(target['client_id'])]['client_id'].nunique()"
   ]
  },
  {
   "cell_type": "markdown",
   "id": "7dee273d",
   "metadata": {},
   "source": [
    "В датасете messages 11347 значения поля client_id, которых нет в датасетах purchases и target. Сравним значения полей message_id в датасетах purchases и messages."
   ]
  },
  {
   "cell_type": "code",
   "execution_count": 11,
   "id": "91fad6d4",
   "metadata": {
    "scrolled": false
   },
   "outputs": [
    {
     "data": {
      "text/html": [
       "<div>\n",
       "<style scoped>\n",
       "    .dataframe tbody tr th:only-of-type {\n",
       "        vertical-align: middle;\n",
       "    }\n",
       "\n",
       "    .dataframe tbody tr th {\n",
       "        vertical-align: top;\n",
       "    }\n",
       "\n",
       "    .dataframe thead th {\n",
       "        text-align: right;\n",
       "    }\n",
       "</style>\n",
       "<table border=\"1\" class=\"dataframe\">\n",
       "  <thead>\n",
       "    <tr style=\"text-align: right;\">\n",
       "      <th></th>\n",
       "      <th>client_id</th>\n",
       "      <th>quantity</th>\n",
       "      <th>price</th>\n",
       "      <th>category_ids</th>\n",
       "      <th>date</th>\n",
       "      <th>message_id</th>\n",
       "    </tr>\n",
       "  </thead>\n",
       "  <tbody>\n",
       "    <tr>\n",
       "      <th>0</th>\n",
       "      <td>1515915625468169594</td>\n",
       "      <td>1</td>\n",
       "      <td>1999.0</td>\n",
       "      <td>['4', '28', '57', '431']</td>\n",
       "      <td>2022-05-16</td>\n",
       "      <td>1515915625468169594-4301-627b661e9736d</td>\n",
       "    </tr>\n",
       "    <tr>\n",
       "      <th>1</th>\n",
       "      <td>1515915625468169594</td>\n",
       "      <td>1</td>\n",
       "      <td>2499.0</td>\n",
       "      <td>['4', '28', '57', '431']</td>\n",
       "      <td>2022-05-16</td>\n",
       "      <td>1515915625468169594-4301-627b661e9736d</td>\n",
       "    </tr>\n",
       "    <tr>\n",
       "      <th>2</th>\n",
       "      <td>1515915625471138230</td>\n",
       "      <td>1</td>\n",
       "      <td>6499.0</td>\n",
       "      <td>['4', '28', '57', '431']</td>\n",
       "      <td>2022-05-16</td>\n",
       "      <td>1515915625471138230-4437-6282242f27843</td>\n",
       "    </tr>\n",
       "    <tr>\n",
       "      <th>3</th>\n",
       "      <td>1515915625471138230</td>\n",
       "      <td>1</td>\n",
       "      <td>4999.0</td>\n",
       "      <td>['4', '28', '244', '432']</td>\n",
       "      <td>2022-05-16</td>\n",
       "      <td>1515915625471138230-4437-6282242f27843</td>\n",
       "    </tr>\n",
       "    <tr>\n",
       "      <th>4</th>\n",
       "      <td>1515915625471138230</td>\n",
       "      <td>1</td>\n",
       "      <td>4999.0</td>\n",
       "      <td>['4', '28', '49', '413']</td>\n",
       "      <td>2022-05-16</td>\n",
       "      <td>1515915625471138230-4437-6282242f27843</td>\n",
       "    </tr>\n",
       "    <tr>\n",
       "      <th>...</th>\n",
       "      <td>...</td>\n",
       "      <td>...</td>\n",
       "      <td>...</td>\n",
       "      <td>...</td>\n",
       "      <td>...</td>\n",
       "      <td>...</td>\n",
       "    </tr>\n",
       "    <tr>\n",
       "      <th>202197</th>\n",
       "      <td>1515915626010221592</td>\n",
       "      <td>1</td>\n",
       "      <td>1499.0</td>\n",
       "      <td>['4', '28', '260', '1194']</td>\n",
       "      <td>2024-02-16</td>\n",
       "      <td>1515915626010221592-14664-65cf1622434a9</td>\n",
       "    </tr>\n",
       "    <tr>\n",
       "      <th>202204</th>\n",
       "      <td>1515915626010439406</td>\n",
       "      <td>1</td>\n",
       "      <td>99.0</td>\n",
       "      <td>['4', '27', '233', '462']</td>\n",
       "      <td>2024-02-16</td>\n",
       "      <td>1515915625776605028-14662-65cf3abfe4f0d</td>\n",
       "    </tr>\n",
       "    <tr>\n",
       "      <th>202205</th>\n",
       "      <td>1515915626010439406</td>\n",
       "      <td>1</td>\n",
       "      <td>99.0</td>\n",
       "      <td>['4', '27', '233', '462']</td>\n",
       "      <td>2024-02-16</td>\n",
       "      <td>1515915625776605028-14662-65cf3abfe4f0d</td>\n",
       "    </tr>\n",
       "    <tr>\n",
       "      <th>202206</th>\n",
       "      <td>1515915626010443527</td>\n",
       "      <td>1</td>\n",
       "      <td>1999.0</td>\n",
       "      <td>['2', '18', '274', '446']</td>\n",
       "      <td>2024-02-16</td>\n",
       "      <td>1515915625766077627-14668-65cf5246bd490</td>\n",
       "    </tr>\n",
       "    <tr>\n",
       "      <th>202207</th>\n",
       "      <td>1515915626010443624</td>\n",
       "      <td>1</td>\n",
       "      <td>999.0</td>\n",
       "      <td>['4', '28', '62', '656']</td>\n",
       "      <td>2024-02-16</td>\n",
       "      <td>1515915625488468007-14668-65cf5234b1295</td>\n",
       "    </tr>\n",
       "  </tbody>\n",
       "</table>\n",
       "<p>856 rows × 6 columns</p>\n",
       "</div>"
      ],
      "text/plain": [
       "                  client_id  quantity   price                category_ids  \\\n",
       "0       1515915625468169594         1  1999.0    ['4', '28', '57', '431']   \n",
       "1       1515915625468169594         1  2499.0    ['4', '28', '57', '431']   \n",
       "2       1515915625471138230         1  6499.0    ['4', '28', '57', '431']   \n",
       "3       1515915625471138230         1  4999.0   ['4', '28', '244', '432']   \n",
       "4       1515915625471138230         1  4999.0    ['4', '28', '49', '413']   \n",
       "...                     ...       ...     ...                         ...   \n",
       "202197  1515915626010221592         1  1499.0  ['4', '28', '260', '1194']   \n",
       "202204  1515915626010439406         1    99.0   ['4', '27', '233', '462']   \n",
       "202205  1515915626010439406         1    99.0   ['4', '27', '233', '462']   \n",
       "202206  1515915626010443527         1  1999.0   ['2', '18', '274', '446']   \n",
       "202207  1515915626010443624         1   999.0    ['4', '28', '62', '656']   \n",
       "\n",
       "              date                               message_id  \n",
       "0       2022-05-16   1515915625468169594-4301-627b661e9736d  \n",
       "1       2022-05-16   1515915625468169594-4301-627b661e9736d  \n",
       "2       2022-05-16   1515915625471138230-4437-6282242f27843  \n",
       "3       2022-05-16   1515915625471138230-4437-6282242f27843  \n",
       "4       2022-05-16   1515915625471138230-4437-6282242f27843  \n",
       "...            ...                                      ...  \n",
       "202197  2024-02-16  1515915626010221592-14664-65cf1622434a9  \n",
       "202204  2024-02-16  1515915625776605028-14662-65cf3abfe4f0d  \n",
       "202205  2024-02-16  1515915625776605028-14662-65cf3abfe4f0d  \n",
       "202206  2024-02-16  1515915625766077627-14668-65cf5246bd490  \n",
       "202207  2024-02-16  1515915625488468007-14668-65cf5234b1295  \n",
       "\n",
       "[856 rows x 6 columns]"
      ]
     },
     "execution_count": 11,
     "metadata": {},
     "output_type": "execute_result"
    }
   ],
   "source": [
    "purchases[~purchases['message_id'].isin(messages['message_id'])]"
   ]
  },
  {
   "cell_type": "markdown",
   "id": "a1579818",
   "metadata": {},
   "source": [
    "У 856 записей нет значения message_id в датасете purchases. Определим количество уникальных клиентов."
   ]
  },
  {
   "cell_type": "code",
   "execution_count": 12,
   "id": "b026e56a",
   "metadata": {},
   "outputs": [
    {
     "data": {
      "text/plain": [
       "401"
      ]
     },
     "execution_count": 12,
     "metadata": {},
     "output_type": "execute_result"
    }
   ],
   "source": [
    "purchases[~purchases['message_id'].isin(messages['message_id'])]['client_id'].nunique()"
   ]
  },
  {
   "cell_type": "markdown",
   "id": "5cc0d149",
   "metadata": {},
   "source": [
    "401 клиент не имеет записей о данных сообщений."
   ]
  },
  {
   "cell_type": "markdown",
   "id": "12bdeec7",
   "metadata": {},
   "source": [
    "Просто склеивать датасеты по полям client_id или message_id не представляется возможным."
   ]
  },
  {
   "cell_type": "code",
   "execution_count": 13,
   "id": "b2e75ce9",
   "metadata": {},
   "outputs": [],
   "source": [
    "messages = messages[messages['client_id'].isin(target['client_id'])]"
   ]
  },
  {
   "cell_type": "code",
   "execution_count": 14,
   "id": "5a600e97",
   "metadata": {},
   "outputs": [
    {
     "data": {
      "text/plain": [
       "10913197"
      ]
     },
     "execution_count": 14,
     "metadata": {},
     "output_type": "execute_result"
    }
   ],
   "source": [
    "messages.shape[0]"
   ]
  },
  {
   "cell_type": "code",
   "execution_count": 15,
   "id": "ef17c787",
   "metadata": {
    "scrolled": true
   },
   "outputs": [
    {
     "data": {
      "text/plain": [
       "event\n",
       "send           7898997\n",
       "open           2485299\n",
       "click           443970\n",
       "purchase         55704\n",
       "hard_bounce      16366\n",
       "soft_bounce       8915\n",
       "unsubscribe       2614\n",
       "hbq_spam           760\n",
       "complain           495\n",
       "subscribe           76\n",
       "close                1\n",
       "Name: count, dtype: int64"
      ]
     },
     "execution_count": 15,
     "metadata": {},
     "output_type": "execute_result"
    }
   ],
   "source": [
    "messages.event.value_counts()"
   ]
  },
  {
   "cell_type": "code",
   "execution_count": 16,
   "id": "bb887486",
   "metadata": {},
   "outputs": [
    {
     "data": {
      "text/plain": [
       "channel\n",
       "mobile_push    6088089\n",
       "email          4825108\n",
       "Name: count, dtype: int64"
      ]
     },
     "execution_count": 16,
     "metadata": {},
     "output_type": "execute_result"
    }
   ],
   "source": [
    "messages.channel.value_counts()"
   ]
  },
  {
   "cell_type": "markdown",
   "id": "272400de",
   "metadata": {},
   "source": [
    "Изучим даные датасета purchases"
   ]
  },
  {
   "cell_type": "code",
   "execution_count": 17,
   "id": "f4cce488",
   "metadata": {},
   "outputs": [
    {
     "data": {
      "text/plain": [
       "quantity\n",
       "1     201323\n",
       "2        751\n",
       "3         94\n",
       "4         12\n",
       "6          5\n",
       "10         4\n",
       "20         3\n",
       "15         3\n",
       "5          3\n",
       "25         2\n",
       "30         2\n",
       "9          2\n",
       "13         1\n",
       "18         1\n",
       "8          1\n",
       "7          1\n",
       "Name: count, dtype: int64"
      ]
     },
     "execution_count": 17,
     "metadata": {},
     "output_type": "execute_result"
    }
   ],
   "source": [
    "purchases.quantity.value_counts()"
   ]
  },
  {
   "cell_type": "markdown",
   "id": "d5b8fa9d",
   "metadata": {},
   "source": [
    "В основном записи по одному товару, значит дубликаты оставляем, так как они имеют смысл."
   ]
  },
  {
   "cell_type": "code",
   "execution_count": 18,
   "id": "433a6c87",
   "metadata": {},
   "outputs": [
    {
     "data": {
      "text/plain": [
       "price\n",
       "999.0     10233\n",
       "1499.0     7520\n",
       "1999.0     7150\n",
       "699.0      6044\n",
       "599.0      5612\n",
       "          ...  \n",
       "2591.0        1\n",
       "2084.0        1\n",
       "2476.0        1\n",
       "2793.0        1\n",
       "2789.0        1\n",
       "Name: count, Length: 3642, dtype: int64"
      ]
     },
     "execution_count": 18,
     "metadata": {},
     "output_type": "execute_result"
    }
   ],
   "source": [
    "purchases.price.value_counts()"
   ]
  },
  {
   "cell_type": "code",
   "execution_count": 19,
   "id": "c1eb59e8",
   "metadata": {},
   "outputs": [
    {
     "data": {
      "text/plain": [
       "count    202208.000000\n",
       "mean       1193.301516\n",
       "std        1342.252664\n",
       "min           1.000000\n",
       "25%         352.000000\n",
       "50%         987.000000\n",
       "75%        1699.000000\n",
       "max       85499.000000\n",
       "Name: price, dtype: float64"
      ]
     },
     "execution_count": 19,
     "metadata": {},
     "output_type": "execute_result"
    }
   ],
   "source": [
    "purchases.price.describe()"
   ]
  },
  {
   "cell_type": "code",
   "execution_count": 20,
   "id": "887e45fb",
   "metadata": {},
   "outputs": [],
   "source": [
    "purchases['date'] = pd.to_datetime(purchases['date'])"
   ]
  },
  {
   "cell_type": "code",
   "execution_count": 21,
   "id": "323e77a0",
   "metadata": {},
   "outputs": [
    {
     "data": {
      "text/plain": [
       "'2022-05-16'"
      ]
     },
     "execution_count": 21,
     "metadata": {},
     "output_type": "execute_result"
    }
   ],
   "source": [
    "str(purchases['date'].dt.date.min())"
   ]
  },
  {
   "cell_type": "code",
   "execution_count": 22,
   "id": "9cbdb419",
   "metadata": {
    "scrolled": true
   },
   "outputs": [
    {
     "data": {
      "text/plain": [
       "'2024-02-16'"
      ]
     },
     "execution_count": 22,
     "metadata": {},
     "output_type": "execute_result"
    }
   ],
   "source": [
    "str(purchases['date'].dt.date.max())"
   ]
  },
  {
   "cell_type": "code",
   "execution_count": 23,
   "id": "46f86d5d",
   "metadata": {
    "scrolled": false
   },
   "outputs": [
    {
     "data": {
      "text/plain": [
       "category_ids\n",
       "['4', '28', '57', '431']            8626\n",
       "['4', '28', '260', '420']           6989\n",
       "['4', '28', '244', '432']           6821\n",
       "[]                                  5579\n",
       "['4', '28', '275', '421']           4936\n",
       "                                    ... \n",
       "['4', '5837', '5836', '839']           1\n",
       "['5562', '5632', '5552', '1089']       1\n",
       "['4', '27', '278', '471']              1\n",
       "['5562', '5697', '5651', '1153']       1\n",
       "['5562', '5597', '5696', '5529']       1\n",
       "Name: count, Length: 933, dtype: int64"
      ]
     },
     "execution_count": 23,
     "metadata": {},
     "output_type": "execute_result"
    }
   ],
   "source": [
    "purchases.category_ids.value_counts()"
   ]
  },
  {
   "cell_type": "code",
   "execution_count": 24,
   "id": "801cdffa",
   "metadata": {
    "scrolled": true
   },
   "outputs": [
    {
     "data": {
      "text/plain": [
       "{\"['1', '22', '50', '685']\",\n",
       " \"['1', '8', '280', '710']\",\n",
       " \"['2', '17', '107', '453']\",\n",
       " \"['2', '17', '137', '469']\",\n",
       " \"['2', '17', '171', '475']\",\n",
       " \"['2', '17', '173', '1598']\",\n",
       " \"['2', '17', '173', '1845']\",\n",
       " \"['2', '17', '173', '459']\",\n",
       " \"['2', '17', '180', '465']\",\n",
       " \"['2', '17', '1826', '1818']\",\n",
       " \"['2', '17', '188', '525']\",\n",
       " \"['2', '17', '198', '497']\",\n",
       " \"['2', '17', '232', '463']\",\n",
       " \"['2', '17', '279', '5807']\",\n",
       " \"['2', '17', '286', '455']\",\n",
       " \"['2', '17', '293', '5819']\",\n",
       " \"['2', '17', '330', '387', '467']\",\n",
       " \"['2', '17', '83', '519']\",\n",
       " \"['2', '17', '83', '5810']\",\n",
       " \"['2', '18', '123', '451']\",\n",
       " \"['2', '18', '155', '1325']\",\n",
       " \"['2', '18', '155', '439']\",\n",
       " \"['2', '18', '212', '658']\",\n",
       " \"['2', '18', '212', '659']\",\n",
       " \"['2', '18', '212', '726']\",\n",
       " \"['2', '18', '217', '662']\",\n",
       " \"['2', '18', '217', '663']\",\n",
       " \"['2', '18', '243', '440']\",\n",
       " \"['2', '18', '248', '449']\",\n",
       " \"['2', '18', '248', '677']\",\n",
       " \"['2', '18', '258', '1195']\",\n",
       " \"['2', '18', '258', '1561']\",\n",
       " \"['2', '18', '258', '1562']\",\n",
       " \"['2', '18', '258', '1569']\",\n",
       " \"['2', '18', '258', '1590']\",\n",
       " \"['2', '18', '258', '441']\",\n",
       " \"['2', '18', '267', '1330']\",\n",
       " \"['2', '18', '267', '1592']\",\n",
       " \"['2', '18', '267', '1597']\",\n",
       " \"['2', '18', '267', '442']\",\n",
       " \"['2', '18', '267', '443']\",\n",
       " \"['2', '18', '267', '6201']\",\n",
       " \"['2', '18', '274', '446']\",\n",
       " \"['2', '18', '274', '450']\",\n",
       " \"['2', '18', '341', '1311']\",\n",
       " \"['2', '18', '344', '445']\",\n",
       " \"['2', '18', '61', '660']\",\n",
       " \"['2', '18', '61', '661']\",\n",
       " \"['3', '12', '219', '1083']\",\n",
       " \"['3', '14', '79', '1169']\",\n",
       " \"['4', '1822', '1821', '1613']\",\n",
       " \"['4', '1822', '1821', '1814']\",\n",
       " \"['4', '1822', '1821', '1815']\",\n",
       " \"['4', '1822', '1821', '1816']\",\n",
       " \"['4', '1822', '1821', '5511']\",\n",
       " \"['4', '1822', '1821', '5822']\",\n",
       " \"['4', '1822', '1821', '5988']\",\n",
       " \"['4', '1822', '1821', '6036']\",\n",
       " \"['4', '1822', '1821', '6037']\",\n",
       " \"['4', '1822', '1821', '6038']\",\n",
       " \"['4', '1822', '1821', '6039']\",\n",
       " \"['4', '1822', '1821', '6050']\",\n",
       " \"['4', '1822', '1823', '1819']\",\n",
       " \"['4', '1822', '1823', '1820']\",\n",
       " \"['4', '1822', '1823', '6234']\",\n",
       " \"['4', '1822', '1824', '1615']\",\n",
       " \"['4', '1822', '1824', '1616']\",\n",
       " \"['4', '1822', '1824', '1618']\",\n",
       " \"['4', '1822', '1824', '1619']\",\n",
       " \"['4', '1822', '1824', '1620']\",\n",
       " \"['4', '1822', '1824', '1621']\",\n",
       " \"['4', '1822', '1824', '1623']\",\n",
       " \"['4', '1822', '1824', '1624']\",\n",
       " \"['4', '1822', '1824', '1625']\",\n",
       " \"['4', '1822', '1824', '1626']\",\n",
       " \"['4', '1822', '1824', '1813']\",\n",
       " \"['4', '1822', '1824', '1847']\",\n",
       " \"['4', '1822', '1827', '1817']\",\n",
       " \"['4', '1822', '38', '478']\",\n",
       " \"['4', '1822', '38', '479']\",\n",
       " \"['4', '1822', '38', '480']\",\n",
       " \"['4', '1822', '38', '481']\",\n",
       " \"['4', '1822', '38', '482']\",\n",
       " \"['4', '1822', '38', '597']\",\n",
       " \"['4', '1822', '499']\",\n",
       " \"['4', '1822', '5984', '5480']\",\n",
       " \"['4', '1822', '5984', '5481']\",\n",
       " \"['4', '1822', '5984', '5532']\",\n",
       " \"['4', '1822', '5984', '5816']\",\n",
       " \"['4', '1822', '5984', '5936']\",\n",
       " \"['4', '1822', '5984', '5937']\",\n",
       " \"['4', '1822', '5984', '6018']\",\n",
       " \"['4', '1822', '5984', '6019']\",\n",
       " \"['4', '1822', '5985', '1847']\",\n",
       " \"['4', '1822', '5985', '471']\",\n",
       " \"['4', '1822', '5985', '476']\",\n",
       " \"['4', '1822', '5985', '644']\",\n",
       " \"['4', '1822', '5985', '645']\",\n",
       " \"['4', '1822', '6265', '6045']\",\n",
       " \"['4', '1822', '6265', '6109']\",\n",
       " \"['4', '1822', '6309', '6036']\",\n",
       " \"['4', '1822', '6309', '6038']\",\n",
       " \"['4', '1822', '6309', '6039']\",\n",
       " \"['4', '27', '108', '452']\",\n",
       " \"['4', '27', '138', '1355']\",\n",
       " \"['4', '27', '138', '468']\",\n",
       " \"['4', '27', '138', '720']\",\n",
       " \"['4', '27', '142', '496']\",\n",
       " \"['4', '27', '172', '474']\",\n",
       " \"['4', '27', '176', '1313']\",\n",
       " \"['4', '27', '176', '1844']\",\n",
       " \"['4', '27', '176', '458']\",\n",
       " \"['4', '27', '176', '460']\",\n",
       " \"['4', '27', '176', '520']\",\n",
       " \"['4', '27', '176', '522']\",\n",
       " \"['4', '27', '176', '523']\",\n",
       " \"['4', '27', '176', '524']\",\n",
       " \"['4', '27', '181', '464']\",\n",
       " \"['4', '27', '181', '722']\",\n",
       " \"['4', '27', '181', '723']\",\n",
       " \"['4', '27', '1828', '1572']\",\n",
       " \"['4', '27', '1828', '1599']\",\n",
       " \"['4', '27', '1828', '1603']\",\n",
       " \"['4', '27', '1828', '1604']\",\n",
       " \"['4', '27', '1828', '1605']\",\n",
       " \"['4', '27', '1828', '1606']\",\n",
       " \"['4', '27', '1828', '1612']\",\n",
       " \"['4', '27', '1828', '5717']\",\n",
       " \"['4', '27', '1828', '5803']\",\n",
       " \"['4', '27', '1828', '5804']\",\n",
       " \"['4', '27', '186', '526']\",\n",
       " \"['4', '27', '186', '527']\",\n",
       " \"['4', '27', '202', '701']\",\n",
       " \"['4', '27', '205', '1081']\",\n",
       " \"['4', '27', '205', '650']\",\n",
       " \"['4', '27', '205', '868']\",\n",
       " \"['4', '27', '233', '462']\",\n",
       " \"['4', '27', '278', '1556']\",\n",
       " \"['4', '27', '278', '1613']\",\n",
       " \"['4', '27', '278', '470']\",\n",
       " \"['4', '27', '278', '471']\",\n",
       " \"['4', '27', '278', '472']\",\n",
       " \"['4', '27', '278', '473']\",\n",
       " \"['4', '27', '278', '476']\",\n",
       " \"['4', '27', '278', '477']\",\n",
       " \"['4', '27', '278', '586']\",\n",
       " \"['4', '27', '278', '644']\",\n",
       " \"['4', '27', '278', '864']\",\n",
       " \"['4', '27', '282', '596']\",\n",
       " \"['4', '27', '287', '509']\",\n",
       " \"['4', '27', '287', '510']\",\n",
       " \"['4', '27', '287', '513']\",\n",
       " \"['4', '27', '287', '544']\",\n",
       " \"['4', '27', '287', '546']\",\n",
       " \"['4', '27', '336', '1854']\",\n",
       " \"['4', '27', '350', '1392']\",\n",
       " \"['4', '27', '350', '1589']\",\n",
       " \"['4', '27', '353', '1610']\",\n",
       " \"['4', '27', '353', '1798']\",\n",
       " \"['4', '27', '353', '1799']\",\n",
       " \"['4', '27', '353', '1800']\",\n",
       " \"['4', '27', '353', '840']\",\n",
       " \"['4', '27', '38', '478']\",\n",
       " \"['4', '27', '38', '479']\",\n",
       " \"['4', '27', '38', '480']\",\n",
       " \"['4', '27', '38', '481']\",\n",
       " \"['4', '27', '38', '482']\",\n",
       " \"['4', '27', '84', '1382']\",\n",
       " \"['4', '27', '84', '1595']\",\n",
       " \"['4', '27', '84', '456']\",\n",
       " \"['4', '27', '84', '515']\",\n",
       " \"['4', '27', '84', '568']\",\n",
       " \"['4', '28', '104', '429']\",\n",
       " \"['4', '28', '124', '1602']\",\n",
       " \"['4', '28', '124', '415']\",\n",
       " \"['4', '28', '146', '1587']\",\n",
       " \"['4', '28', '146', '548']\",\n",
       " \"['4', '28', '156', '1586']\",\n",
       " \"['4', '28', '156', '416']\",\n",
       " \"['4', '28', '213', '417']\",\n",
       " \"['4', '28', '213', '436']\",\n",
       " \"['4', '28', '218', '652']\",\n",
       " \"['4', '28', '218', '653']\",\n",
       " \"['4', '28', '228', '1596']\",\n",
       " \"['4', '28', '228', '435']\",\n",
       " \"['4', '28', '239', '1622']\",\n",
       " \"['4', '28', '239', '1844']\",\n",
       " \"['4', '28', '239', '418']\",\n",
       " \"['4', '28', '239', '6202']\",\n",
       " \"['4', '28', '244', '432']\",\n",
       " \"['4', '28', '249', '615']\",\n",
       " \"['4', '28', '249', '616']\",\n",
       " \"['4', '28', '254', '680']\",\n",
       " \"['4', '28', '260', '1194']\",\n",
       " \"['4', '28', '260', '1568']\",\n",
       " \"['4', '28', '260', '1570']\",\n",
       " \"['4', '28', '260', '420']\",\n",
       " \"['4', '28', '275', '1305']\",\n",
       " \"['4', '28', '275', '421']\",\n",
       " \"['4', '28', '275', '673']\",\n",
       " \"['4', '28', '290', '1329']\",\n",
       " \"['4', '28', '290', '422']\",\n",
       " \"['4', '28', '290', '424']\",\n",
       " \"['4', '28', '290', '547']\",\n",
       " \"['4', '28', '304', '423']\",\n",
       " \"['4', '28', '340', '1312']\",\n",
       " \"['4', '28', '343', '1602']\",\n",
       " \"['4', '28', '343', '425']\",\n",
       " \"['4', '28', '44', '1097']\",\n",
       " \"['4', '28', '44', '1564']\",\n",
       " \"['4', '28', '44', '1571']\",\n",
       " \"['4', '28', '44', '1593']\",\n",
       " \"['4', '28', '44', '1594']\",\n",
       " \"['4', '28', '44', '428']\",\n",
       " \"['4', '28', '44', '430']\",\n",
       " \"['4', '28', '44', '489']\",\n",
       " \"['4', '28', '44', '490']\",\n",
       " \"['4', '28', '44', '491']\",\n",
       " \"['4', '28', '44', '492']\",\n",
       " \"['4', '28', '44', '493']\",\n",
       " \"['4', '28', '44', '494']\",\n",
       " \"['4', '28', '44', '499']\",\n",
       " \"['4', '28', '44', '501']\",\n",
       " \"['4', '28', '44', '528']\",\n",
       " \"['4', '28', '44', '549']\",\n",
       " \"['4', '28', '44', '989']\",\n",
       " \"['4', '28', '49', '413']\",\n",
       " \"['4', '28', '49', '684']\",\n",
       " \"['4', '28', '57', '431']\",\n",
       " \"['4', '28', '58', '1560']\",\n",
       " \"['4', '28', '58', '434']\",\n",
       " \"['4', '28', '62', '656']\",\n",
       " \"['4', '28', '62', '657']\",\n",
       " \"['4', '28', '63', '654']\",\n",
       " \"['4', '28', '63', '655']\",\n",
       " \"['4', '29', '309', '1578']\",\n",
       " \"['4', '29', '309', '1835']\",\n",
       " \"['4', '29', '309', '5796']\",\n",
       " \"['4', '29', '309', '939']\",\n",
       " \"['4', '29', '310', '1577']\",\n",
       " \"['4', '29', '310', '1833']\",\n",
       " \"['4', '29', '310', '1834']\",\n",
       " \"['4', '29', '310', '500']\",\n",
       " \"['4', '29', '311', '1575']\",\n",
       " \"['4', '29', '311', '1836']\",\n",
       " \"['4', '29', '311', '5797']\",\n",
       " \"['4', '29', '311', '928']\",\n",
       " \"['4', '29', '312', '1576']\",\n",
       " \"['4', '29', '312', '1581']\",\n",
       " \"['4', '29', '312', '1837']\",\n",
       " \"['4', '29', '312', '5508']\",\n",
       " \"['4', '29', '312', '934']\",\n",
       " \"['4', '29', '313', '1574']\",\n",
       " \"['4', '29', '313', '5798']\",\n",
       " \"['4', '29', '313', '938']\",\n",
       " \"['4', '29', '314', '1398']\",\n",
       " \"['4', '29', '314', '1579']\",\n",
       " \"['4', '29', '339', '1559']\",\n",
       " \"['4', '29', '347', '1318']\",\n",
       " \"['4', '29', '503']\",\n",
       " \"['4', '30', '315', '541']\",\n",
       " \"['4', '30', '503']\",\n",
       " \"['4', '31', '324', '1431']\",\n",
       " \"['4', '31', '324', '1432']\",\n",
       " \"['4', '31', '324', '466']\",\n",
       " \"['4', '31', '324', '5813']\",\n",
       " \"['4', '31', '324', '879']\",\n",
       " \"['4', '31', '326', '505']\",\n",
       " \"['4', '31', '327', '507']\",\n",
       " \"['4', '31', '328', '567']\",\n",
       " \"['4', '31', '329', '506']\",\n",
       " \"['4', '44', '1097']\",\n",
       " \"['4', '44', '1381']\",\n",
       " \"['4', '44', '1564']\",\n",
       " \"['4', '44', '1571']\",\n",
       " \"['4', '44', '1594']\",\n",
       " \"['4', '44', '1600']\",\n",
       " \"['4', '44', '428']\",\n",
       " \"['4', '44', '430']\",\n",
       " \"['4', '44', '489']\",\n",
       " \"['4', '44', '490']\",\n",
       " \"['4', '44', '491']\",\n",
       " \"['4', '44', '492']\",\n",
       " \"['4', '44', '493']\",\n",
       " \"['4', '44', '494']\",\n",
       " \"['4', '44', '501']\",\n",
       " \"['4', '44', '528']\",\n",
       " \"['4', '44', '549']\",\n",
       " \"['4', '44', '989']\",\n",
       " \"['4', '5837', '5836', '1047']\",\n",
       " \"['4', '5837', '5836', '1167']\",\n",
       " \"['4', '5837', '5836', '1357']\",\n",
       " \"['4', '5837', '5836', '1567']\",\n",
       " \"['4', '5837', '5836', '1601']\",\n",
       " \"['4', '5837', '5836', '839']\",\n",
       " \"['4', '5837', '5838', '1168']\",\n",
       " \"['4', '5837', '5838', '1565']\",\n",
       " \"['4', '5837', '5838', '1566']\",\n",
       " \"['4', '5837', '5838', '1584']\",\n",
       " \"['4', '5837', '5838', '1585']\",\n",
       " \"['4', '5837', '5838', '1848']\",\n",
       " \"['4', '5837', '5838', '5498']\",\n",
       " \"['4', '5837', '5838', '5499']\",\n",
       " \"['4', '5837', '5838', '5500']\",\n",
       " \"['4', '5837', '5838', '5501']\",\n",
       " \"['4', '5837', '5838', '5502']\",\n",
       " \"['4', '5837', '5838', '5503']\",\n",
       " \"['4', '5837', '5838', '5504']\",\n",
       " \"['4', '5837', '5838', '5505']\",\n",
       " \"['4', '5837', '5838', '5720']\",\n",
       " \"['4', '5837', '5838', '5834']\",\n",
       " \"['4', '5837', '5838', '5835']\",\n",
       " \"['4', '5837', '5838', '5956']\",\n",
       " \"['4', '5837', '6013', '1153']\",\n",
       " \"['4', '5837', '6013', '1607']\",\n",
       " \"['4', '5837', '6013', '1853']\",\n",
       " \"['4', '5837', '6013', '1855']\",\n",
       " \"['4', '5837', '6013', '1856']\",\n",
       " \"['4', '5837', '6013', '1857']\",\n",
       " \"['4', '5837', '6013', '863']\",\n",
       " \"['5', '10', '105', '1794']\",\n",
       " \"['5562', '5536', '5535', '1563']\",\n",
       " \"['5562', '5536', '5535', '1573']\",\n",
       " \"['5562', '5536', '5535', '856']\",\n",
       " \"['5562', '5536', '5537', '841']\",\n",
       " \"['5562', '5536', '5537', '842']\",\n",
       " \"['5562', '5536', '5537', '843']\",\n",
       " \"['5562', '5536', '5537', '844']\",\n",
       " \"['5562', '5536', '5537', '845']\",\n",
       " \"['5562', '5536', '5537', '846']\",\n",
       " \"['5562', '5536', '5542', '1799']\",\n",
       " \"['5562', '5536', '5544', '854']\",\n",
       " \"['5562', '5536', '5580', '963']\",\n",
       " \"['5562', '5536', '5581', '1420']\",\n",
       " \"['5562', '5536', '5581', '1421']\",\n",
       " \"['5562', '5536', '5581', '1591']\",\n",
       " \"['5562', '5536', '5581', '601']\",\n",
       " \"['5562', '5536', '5581', '602']\",\n",
       " \"['5562', '5536', '5581', '619']\",\n",
       " \"['5562', '5536', '5581', '620']\",\n",
       " \"['5562', '5536', '5581', '792']\",\n",
       " \"['5562', '5536', '5581', '930']\",\n",
       " \"['5562', '5536', '5581', '933']\",\n",
       " \"['5562', '5536', '5581', '954']\",\n",
       " \"['5562', '5536', '5581', '956']\",\n",
       " \"['5562', '5536', '5656', '614']\",\n",
       " \"['5562', '5536', '5658', '1302']\",\n",
       " \"['5562', '5536', '5658', '724']\",\n",
       " \"['5562', '5536', '5658', '725']\",\n",
       " \"['5562', '5536', '5680', '575']\",\n",
       " \"['5562', '5536', '5680', '576']\",\n",
       " \"['5562', '5536', '5685', '569']\",\n",
       " \"['5562', '5536', '5685', '570']\",\n",
       " \"['5562', '5536', '5685', '6323']\",\n",
       " \"['5562', '5536', '5685', '651']\",\n",
       " \"['5562', '5536', '5685', '727']\",\n",
       " \"['5562', '5536', '5685', '857']\",\n",
       " \"['5562', '5536', '5702', '623']\",\n",
       " \"['5562', '5536', '5702', '624']\",\n",
       " \"['5562', '5536', '5702', '625']\",\n",
       " \"['5562', '5536', '5702', '626']\",\n",
       " \"['5562', '5536', '5707', '1173']\",\n",
       " \"['5562', '5536', '5712', '1140']\",\n",
       " \"['5562', '5536', '5712', '1846']\",\n",
       " \"['5562', '5536', '5714', '1588']\",\n",
       " \"['5562', '5536', '5714', '577']\",\n",
       " \"['5562', '5536', '5829', '1679']\",\n",
       " \"['5562', '5536', '5829', '447']\",\n",
       " \"['5562', '5558', '5559', '1094']\",\n",
       " \"['5562', '5558', '5559', '1100']\",\n",
       " \"['5562', '5558', '5560', '1110']\",\n",
       " \"['5562', '5558', '5561', '1631']\",\n",
       " \"['5562', '5558', '5582', '1111']\",\n",
       " \"['5562', '5558', '5590', '1055']\",\n",
       " \"['5562', '5558', '5617', '1102']\",\n",
       " \"['5562', '5558', '5618', '1083']\",\n",
       " \"['5562', '5558', '5618', '1088']\",\n",
       " \"['5562', '5558', '5618', '1091']\",\n",
       " \"['5562', '5558', '5618', '878']\",\n",
       " \"['5562', '5558', '5620', '1791']\",\n",
       " \"['5562', '5558', '5635', '1012']\",\n",
       " \"['5562', '5558', '5655', '1145']\",\n",
       " \"['5562', '5558', '5655', '1146']\",\n",
       " \"['5562', '5558', '5655', '1147']\",\n",
       " \"['5562', '5558', '5655', '1149']\",\n",
       " \"['5562', '5558', '5655', '1787']\",\n",
       " \"['5562', '5558', '5684', '1104']\",\n",
       " \"['5562', '5558', '5684', '1108']\",\n",
       " \"['5562', '5558', '5711', '1128']\",\n",
       " \"['5562', '5589', '5563', '1684']\",\n",
       " \"['5562', '5589', '5563', '1732']\",\n",
       " \"['5562', '5589', '5563', '1733']\",\n",
       " \"['5562', '5589', '5563', '1734']\",\n",
       " \"['5562', '5589', '5563', '1735']\",\n",
       " \"['5562', '5589', '5563', '1807']\",\n",
       " \"['5562', '5589', '5563', '1808']\",\n",
       " \"['5562', '5589', '5563', '1811']\",\n",
       " \"['5562', '5589', '5576', '1239']\",\n",
       " \"['5562', '5589', '5576', '1681']\",\n",
       " \"['5562', '5589', '5576', '1682']\",\n",
       " \"['5562', '5589', '5576', '1683']\",\n",
       " \"['5562', '5589', '5576', '1703']\",\n",
       " \"['5562', '5589', '5576', '1705']\",\n",
       " \"['5562', '5589', '5576', '1706']\",\n",
       " \"['5562', '5589', '5576', '1794']\",\n",
       " \"['5562', '5589', '5584', '1783']\",\n",
       " \"['5562', '5589', '5584', '1784']\",\n",
       " \"['5562', '5589', '5584', '1785']\",\n",
       " \"['5562', '5589', '5584', '1786']\",\n",
       " \"['5562', '5589', '5584', '1787']\",\n",
       " \"['5562', '5589', '5584', '1795']\",\n",
       " \"['5562', '5589', '5584', '1796']\",\n",
       " \"['5562', '5589', '5586', '1766']\",\n",
       " \"['5562', '5589', '5586', '1767']\",\n",
       " \"['5562', '5589', '5586', '1768']\",\n",
       " \"['5562', '5589', '5586', '1769']\",\n",
       " \"['5562', '5589', '5586', '1771']\",\n",
       " \"['5562', '5589', '5587', '1699']\",\n",
       " \"['5562', '5589', '5587', '1700']\",\n",
       " \"['5562', '5589', '5587', '1701']\",\n",
       " \"['5562', '5589', '5587', '1702']\",\n",
       " \"['5562', '5589', '5587', '1704']\",\n",
       " \"['5562', '5589', '5587', '1707']\",\n",
       " \"['5562', '5589', '5587', '1708']\",\n",
       " \"['5562', '5589', '5587', '1765']\",\n",
       " \"['5562', '5589', '5588', '1001']\",\n",
       " \"['5562', '5589', '5588', '1778']\",\n",
       " \"['5562', '5589', '5588', '1779']\",\n",
       " \"['5562', '5589', '5588', '1780']\",\n",
       " \"['5562', '5589', '5588', '1781']\",\n",
       " \"['5562', '5589', '5588', '1782']\",\n",
       " \"['5562', '5589', '5588', '1809']\",\n",
       " \"['5562', '5589', '5588', '6166']\",\n",
       " \"['5562', '5589', '5588', '993']\",\n",
       " \"['5562', '5589', '5588', '994']\",\n",
       " \"['5562', '5589', '5588', '995']\",\n",
       " \"['5562', '5589', '5605', '1710']\",\n",
       " \"['5562', '5589', '5605', '1711']\",\n",
       " \"['5562', '5589', '5605', '1712']\",\n",
       " \"['5562', '5589', '5605', '1713']\",\n",
       " \"['5562', '5589', '5610', '1635']\",\n",
       " \"['5562', '5589', '5610', '1636']\",\n",
       " \"['5562', '5589', '5610', '1637']\",\n",
       " \"['5562', '5589', '5610', '1638']\",\n",
       " \"['5562', '5589', '5610', '1639']\",\n",
       " \"['5562', '5589', '5610', '1659']\",\n",
       " \"['5562', '5589', '5610', '1660']\",\n",
       " \"['5562', '5589', '5610', '1661']\",\n",
       " \"['5562', '5589', '5610', '1662']\",\n",
       " \"['5562', '5589', '5610', '1663']\",\n",
       " \"['5562', '5589', '5610', '1664']\",\n",
       " \"['5562', '5589', '5610', '1665']\",\n",
       " \"['5562', '5589', '5613', '1714']\",\n",
       " \"['5562', '5589', '5613', '1715']\",\n",
       " \"['5562', '5589', '5613', '1716']\",\n",
       " \"['5562', '5589', '5613', '1717']\",\n",
       " \"['5562', '5589', '5613', '1718']\",\n",
       " \"['5562', '5589', '5613', '1719']\",\n",
       " \"['5562', '5589', '5613', '1720']\",\n",
       " \"['5562', '5589', '5613', '1722']\",\n",
       " \"['5562', '5589', '5613', '1724']\",\n",
       " \"['5562', '5589', '5613', '1726']\",\n",
       " \"['5562', '5589', '5613', '1727']\",\n",
       " \"['5562', '5589', '5613', '1728']\",\n",
       " \"['5562', '5589', '5613', '1729']\",\n",
       " \"['5562', '5589', '5619', '1685']\",\n",
       " \"['5562', '5589', '5623', '1772']\",\n",
       " \"['5562', '5589', '5623', '1773']\",\n",
       " \"['5562', '5589', '5623', '1774']\",\n",
       " \"['5562', '5589', '5623', '1775']\",\n",
       " \"['5562', '5589', '5623', '1777']\",\n",
       " \"['5562', '5589', '5624', '1686']\",\n",
       " \"['5562', '5589', '5624', '1687']\",\n",
       " \"['5562', '5589', '5624', '1689']\",\n",
       " \"['5562', '5589', '5624', '1690']\",\n",
       " \"['5562', '5589', '5624', '1695']\",\n",
       " \"['5562', '5589', '5624', '1696']\",\n",
       " \"['5562', '5589', '5624', '1697']\",\n",
       " \"['5562', '5589', '5624', '1698']\",\n",
       " \"['5562', '5589', '5624', '1788']\",\n",
       " \"['5562', '5589', '5624', '1789']\",\n",
       " \"['5562', '5589', '5624', '1790']\",\n",
       " \"['5562', '5589', '5624', '1792']\",\n",
       " \"['5562', '5589', '5624', '1793']\",\n",
       " \"['5562', '5589', '5624', '5739']\",\n",
       " \"['5562', '5589', '5624', '764']\",\n",
       " \"['5562', '5589', '5661', '1805']\",\n",
       " \"['5562', '5589', '5661', '1806']\",\n",
       " \"['5562', '5589', '5661', '1810']\",\n",
       " \"['5562', '5589', '5686', '1667']\",\n",
       " \"['5562', '5589', '5686', '1668']\",\n",
       " \"['5562', '5589', '5686', '1669']\",\n",
       " \"['5562', '5589', '5686', '1670']\",\n",
       " \"['5562', '5589', '5686', '1672']\",\n",
       " \"['5562', '5589', '5686', '1673']\",\n",
       " \"['5562', '5589', '5686', '1674']\",\n",
       " \"['5562', '5589', '5686', '1675']\",\n",
       " \"['5562', '5589', '5686', '1676']\",\n",
       " \"['5562', '5589', '5686', '1677']\",\n",
       " \"['5562', '5589', '5686', '1678']\",\n",
       " \"['5562', '5589', '6047', '1691']\",\n",
       " \"['5562', '5589', '6047', '5726']\",\n",
       " \"['5562', '5589', '6047', '5738']\",\n",
       " \"['5562', '5597', '5540', '5779']\",\n",
       " \"['5562', '5597', '5540', '914']\",\n",
       " \"['5562', '5597', '5540', '915']\",\n",
       " \"['5562', '5597', '5540', '916']\",\n",
       " \"['5562', '5597', '5565', '1214']\",\n",
       " \"['5562', '5597', '5566', '5514']\",\n",
       " \"['5562', '5597', '5566', '5519']\",\n",
       " \"['5562', '5597', '5566', '913']\",\n",
       " \"['5562', '5597', '5573', '5789']\",\n",
       " \"['5562', '5597', '5583', '1426']\",\n",
       " \"['5562', '5597', '5583', '1764']\",\n",
       " \"['5562', '5597', '5596', '1424']\",\n",
       " \"['5562', '5597', '5596', '1428']\",\n",
       " \"['5562', '5597', '5596', '917']\",\n",
       " \"['5562', '5597', '5614', '1688']\",\n",
       " \"['5562', '5597', '5614', '1691']\",\n",
       " \"['5562', '5597', '5614', '1694']\",\n",
       " \"['5562', '5597', '5614', '5740']\",\n",
       " \"['5562', '5597', '5614', '919']\",\n",
       " \"['5562', '5597', '5629', '1419']\",\n",
       " \"['5562', '5597', '5629', '1427']\",\n",
       " \"['5562', '5597', '5629', '5781']\",\n",
       " \"['5562', '5597', '5629', '5783']\",\n",
       " \"['5562', '5597', '5629', '5785']\",\n",
       " \"['5562', '5597', '5629', '5786']\",\n",
       " \"['5562', '5597', '5629', '5787']\",\n",
       " \"['5562', '5597', '5629', '5788']\",\n",
       " \"['5562', '5597', '5637', '1213']\",\n",
       " \"['5562', '5597', '5637', '890']\",\n",
       " \"['5562', '5597', '5637', '896']\",\n",
       " \"['5562', '5597', '5637', '905']\",\n",
       " \"['5562', '5597', '5642', '1215']\",\n",
       " \"['5562', '5597', '5642', '1216']\",\n",
       " \"['5562', '5597', '5642', '1217']\",\n",
       " \"['5562', '5597', '5642', '1218']\",\n",
       " \"['5562', '5597', '5642', '1219']\",\n",
       " \"['5562', '5597', '5642', '1220']\",\n",
       " \"['5562', '5597', '5642', '1221']\",\n",
       " \"['5562', '5597', '5642', '1222']\",\n",
       " \"['5562', '5597', '5642', '1223']\",\n",
       " \"['5562', '5597', '5642', '1224']\",\n",
       " \"['5562', '5597', '5642', '5520']\",\n",
       " \"['5562', '5597', '5642', '882']\",\n",
       " \"['5562', '5597', '5642', '883']\",\n",
       " \"['5562', '5597', '5642', '885']\",\n",
       " \"['5562', '5597', '5642', '886']\",\n",
       " \"['5562', '5597', '5642', '887']\",\n",
       " \"['5562', '5597', '5642', '899']\",\n",
       " \"['5562', '5597', '5642', '900']\",\n",
       " \"['5562', '5597', '5642', '901']\",\n",
       " \"['5562', '5597', '5691', '888']\",\n",
       " \"['5562', '5597', '5691', '889']\",\n",
       " \"['5562', '5597', '5696', '1418']\",\n",
       " \"['5562', '5597', '5696', '1429']\",\n",
       " \"['5562', '5597', '5696', '5529']\",\n",
       " \"['5562', '5597', '5696', '5741']\",\n",
       " \"['5562', '5597', '5696', '5754']\",\n",
       " \"['5562', '5597', '5696', '751']\",\n",
       " \"['5562', '5597', '5696', '891']\",\n",
       " \"['5562', '5597', '5696', '892']\",\n",
       " \"['5562', '5597', '5696', '893']\",\n",
       " \"['5562', '5597', '5696', '894']\",\n",
       " \"['5562', '5597', '5696', '895']\",\n",
       " \"['5562', '5597', '5782']\",\n",
       " \"['5562', '5599', '5539', '1075']\",\n",
       " \"['5562', '5599', '5539', '1076']\",\n",
       " \"['5562', '5599', '5539', '1077']\",\n",
       " \"['5562', '5599', '5539', '1078']\",\n",
       " \"['5562', '5599', '5539', '5949']\",\n",
       " \"['5562', '5599', '5539', '5950']\",\n",
       " \"['5562', '5599', '5539', '5953']\",\n",
       " \"['5562', '5599', '5553', '1080']\",\n",
       " \"['5562', '5599', '5553', '1396']\",\n",
       " \"['5562', '5599', '5602', '1115']\",\n",
       " \"['5562', '5599', '5602', '1116']\",\n",
       " \"['5562', '5599', '5848', '5710']\",\n",
       " \"['5562', '5630', '5541', '557']\",\n",
       " \"['5562', '5630', '5541', '685']\",\n",
       " \"['5562', '5630', '5547', '552']\",\n",
       " \"['5562', '5630', '5548', '1304']\",\n",
       " \"['5562', '5630', '5548', '1328']\",\n",
       " \"['5562', '5630', '5548', '1368']\",\n",
       " \"['5562', '5630', '5548', '1830']\",\n",
       " \"['5562', '5630', '5548', '554']\",\n",
       " \"['5562', '5630', '5548', '664']\",\n",
       " \"['5562', '5630', '5548', '665']\",\n",
       " \"['5562', '5630', '5575', '681']\",\n",
       " \"['5562', '5630', '5592', '1307']\",\n",
       " \"['5562', '5630', '5592', '676']\",\n",
       " \"['5562', '5630', '5607', '1326']\",\n",
       " \"['5562', '5630', '5607', '555']\",\n",
       " \"['5562', '5630', '5649', '1582']\",\n",
       " \"['5562', '5630', '5649', '678']\",\n",
       " \"['5562', '5630', '5659', '607']\",\n",
       " \"['5562', '5630', '5667', '551']\",\n",
       " \"['5562', '5630', '5669', '606']\",\n",
       " \"['5562', '5630', '5669', '668']\",\n",
       " \"['5562', '5630', '5669', '669']\",\n",
       " \"['5562', '5630', '5669', '670']\",\n",
       " \"['5562', '5630', '5669', '671']\",\n",
       " \"['5562', '5630', '5677', '628']\",\n",
       " \"['5562', '5630', '5687', '553']\",\n",
       " \"['5562', '5630', '5687', '558']\",\n",
       " \"['5562', '5630', '5699', '1200']\",\n",
       " \"['5562', '5630', '5699', '1306']\",\n",
       " \"['5562', '5630', '5699', '1829']\",\n",
       " \"['5562', '5630', '5699', '550']\",\n",
       " \"['5562', '5631', '5549', '1303']\",\n",
       " \"['5562', '5631', '5549', '1831']\",\n",
       " \"['5562', '5631', '5549', '608']\",\n",
       " \"['5562', '5631', '5549', '666']\",\n",
       " \"['5562', '5631', '5549', '667']\",\n",
       " \"['5562', '5631', '5549', '732']\",\n",
       " \"['5562', '5631', '5549', '734']\",\n",
       " \"['5562', '5631', '5549', '735']\",\n",
       " \"['5562', '5631', '5593', '1308']\",\n",
       " \"['5562', '5631', '5593', '675']\",\n",
       " \"['5562', '5631', '5608', '1327']\",\n",
       " \"['5562', '5631', '5608', '561']\",\n",
       " \"['5562', '5631', '5622', '1367']\",\n",
       " \"['5562', '5631', '5622', '560']\",\n",
       " \"['5562', '5631', '5648', '1583']\",\n",
       " \"['5562', '5631', '5648', '508']\",\n",
       " \"['5562', '5631', '5660', '611']\",\n",
       " \"['5562', '5631', '5666', '563']\",\n",
       " \"['5562', '5631', '5670', '1399']\",\n",
       " \"['5562', '5631', '5670', '609']\",\n",
       " \"['5562', '5631', '5670', '612']\",\n",
       " \"['5562', '5631', '5688', '562']\",\n",
       " \"['5562', '5631', '5688', '564']\",\n",
       " \"['5562', '5631', '5700', '448']\",\n",
       " \"['5562', '5632', '5546', '1323']\",\n",
       " \"['5562', '5632', '5546', '1334']\",\n",
       " \"['5562', '5632', '5546', '1335']\",\n",
       " \"['5562', '5632', '5546', '1344']\",\n",
       " \"['5562', '5632', '5546', '1345']\",\n",
       " \"['5562', '5632', '5546', '965']\",\n",
       " \"['5562', '5632', '5546', '966']\",\n",
       " \"['5562', '5632', '5552', '1089']\",\n",
       " \"['5562', '5632', '5552', '1257']\",\n",
       " \"['5562', '5632', '5552', '1298']\",\n",
       " \"['5562', '5632', '5552', '1340']\",\n",
       " \"['5562', '5632', '5552', '1341']\",\n",
       " \"['5562', '5632', '5552', '1363']\",\n",
       " \"['5562', '5632', '5552', '836']\",\n",
       " \"['5562', '5632', '5552', '855']\",\n",
       " \"['5562', '5632', '5552', '971']\",\n",
       " \"['5562', '5632', '5564', '1287']\",\n",
       " \"['5562', '5632', '5564', '1309']\",\n",
       " \"['5562', '5632', '5564', '1310']\",\n",
       " \"['5562', '5632', '5564', '969']\",\n",
       " \"['5562', '5632', '5577', '1337']\",\n",
       " \"['5562', '5632', '5577', '1338']\",\n",
       " \"['5562', '5632', '5577', '808']\",\n",
       " \"['5562', '5632', '5577', '850']\",\n",
       " \"['5562', '5632', '5598', '1294']\",\n",
       " \"['5562', '5632', '5598', '1324']\",\n",
       " \"['5562', '5632', '5598', '1336']\",\n",
       " \"['5562', '5632', '5598', '1356']\",\n",
       " \"['5562', '5632', '5598', '824']\",\n",
       " \"['5562', '5632', '5598', '967']\",\n",
       " \"['5562', '5632', '5598', '968']\",\n",
       " \"['5562', '5632', '5603', '1095']\",\n",
       " \"['5562', '5632', '5603', '1096']\",\n",
       " \"['5562', '5632', '5603', '1124']\",\n",
       " \"['5562', '5632', '5603', '1342']\",\n",
       " \"['5562', '5632', '5603', '1343']\",\n",
       " \"['5562', '5632', '5603', '1359']\",\n",
       " \"['5562', '5632', '5603', '1360']\",\n",
       " \"['5562', '5632', '5638', '1339']\",\n",
       " \"['5562', '5632', '5638', '970']\",\n",
       " \"['5562', '5632', '5639', '1629']\",\n",
       " \"['5562', '5632', '5647', '1288']\",\n",
       " \"['5562', '5632', '5647', '1361']\",\n",
       " \"['5562', '5632', '5647', '6012']\",\n",
       " \"['5562', '5632', '5657', '972']\",\n",
       " \"['5562', '5632', '5706', '1095']\",\n",
       " \"['5562', '5632', '5706', '1096']\",\n",
       " \"['5562', '5632', '5706', '1124']\",\n",
       " \"['5562', '5632', '5706', '1125']\",\n",
       " \"['5562', '5632', '5706', '1292']\",\n",
       " \"['5562', '5632', '5706', '1293']\",\n",
       " \"['5562', '5632', '5706', '1346']\",\n",
       " \"['5562', '5632', '5706', '1347']\",\n",
       " \"['5562', '5632', '5706', '1851']\",\n",
       " \"['5562', '5632', '5706', '1852']\",\n",
       " \"['5562', '5633', '5545', '706']\",\n",
       " \"['5562', '5633', '5545', '707']\",\n",
       " \"['5562', '5633', '5545', '755']\",\n",
       " \"['5562', '5633', '5545', '761']\",\n",
       " \"['5562', '5633', '5550', '5999']\",\n",
       " \"['5562', '5633', '5550', '6011']\",\n",
       " \"['5562', '5633', '5550', '690']\",\n",
       " \"['5562', '5633', '5550', '705']\",\n",
       " \"['5562', '5633', '5550', '743']\",\n",
       " \"['5562', '5633', '5550', '848']\",\n",
       " \"['5562', '5633', '5550', '927']\",\n",
       " \"['5562', '5633', '5567', '1286']\",\n",
       " \"['5562', '5633', '5567', '590']\",\n",
       " \"['5562', '5633', '5567', '640']\",\n",
       " \"['5562', '5633', '5567', '697']\",\n",
       " \"['5562', '5633', '5569', '581']\",\n",
       " \"['5562', '5633', '5569', '940']\",\n",
       " \"['5562', '5633', '5578', '1353']\",\n",
       " \"['5562', '5633', '5578', '6272']\",\n",
       " \"['5562', '5633', '5578', '700']\",\n",
       " \"['5562', '5633', '5600', '634']\",\n",
       " \"['5562', '5633', '5611', '713']\",\n",
       " \"['5562', '5633', '5612', '5998']\",\n",
       " \"['5562', '5633', '5612', '6000']\",\n",
       " \"['5562', '5633', '5612', '793']\",\n",
       " \"['5562', '5633', '5615', '1281']\",\n",
       " \"['5562', '5633', '5625', '1383']\",\n",
       " \"['5562', '5633', '5625', '571']\",\n",
       " \"['5562', '5633', '5625', '718']\",\n",
       " \"['5562', '5633', '5625', '941']\",\n",
       " \"['5562', '5633', '5627', '573']\",\n",
       " \"['5562', '5633', '5627', '719']\",\n",
       " \"['5562', '5633', '5644', '631']\",\n",
       " \"['5562', '5633', '5646', '1364']\",\n",
       " \"['5562', '5633', '5646', '5723']\",\n",
       " \"['5562', '5633', '5646', '638']\",\n",
       " \"['5562', '5633', '5646', '692']\",\n",
       " \"['5562', '5633', '5646', '699']\",\n",
       " \"['5562', '5633', '5646', '765']\",\n",
       " \"['5562', '5633', '5646', '838']\",\n",
       " \"['5562', '5633', '5646', '936']\",\n",
       " \"['5562', '5633', '5646', '937']\",\n",
       " \"['5562', '5633', '5671', '6009']\",\n",
       " \"['5562', '5633', '5673', '594']\",\n",
       " \"['5562', '5633', '5681', '1633']\",\n",
       " \"['5562', '5633', '5681', '1838']\",\n",
       " \"['5562', '5633', '5681', '591']\",\n",
       " \"['5562', '5633', '5681', '5997']\",\n",
       " \"['5562', '5633', '5689', '1107']\",\n",
       " \"['5562', '5633', '5692', '637']\",\n",
       " \"['5562', '5633', '5701', '702']\",\n",
       " \"['5562', '5633', '5701', '767']\",\n",
       " \"['5562', '5633', '5704', '1283']\",\n",
       " \"['5562', '5633', '5704', '1284']\",\n",
       " \"['5562', '5633', '5704', '1285']\",\n",
       " \"['5562', '5633', '5704', '1352']\",\n",
       " \"['5562', '5633', '5704', '1365']\",\n",
       " \"['5562', '5633', '5704', '1849']\",\n",
       " \"['5562', '5633', '5704', '600']\",\n",
       " \"['5562', '5633', '5704', '858']\",\n",
       " \"['5562', '5633', '5704', '923']\",\n",
       " \"['5562', '5633', '5708', '935']\",\n",
       " \"['5562', '5634', '5551', '1258']\",\n",
       " \"['5562', '5634', '5551', '1277']\",\n",
       " \"['5562', '5634', '5551', '1842']\",\n",
       " \"['5562', '5634', '5551', '6010']\",\n",
       " \"['5562', '5634', '5551', '691']\",\n",
       " \"['5562', '5634', '5551', '769']\",\n",
       " \"['5562', '5634', '5551', '953']\",\n",
       " \"['5562', '5634', '5568', '1351']\",\n",
       " \"['5562', '5634', '5568', '589']\",\n",
       " \"['5562', '5634', '5568', '641']\",\n",
       " \"['5562', '5634', '5568', '957']\",\n",
       " \"['5562', '5634', '5570', '582']\",\n",
       " \"['5562', '5634', '5579', '710']\",\n",
       " \"['5562', '5634', '5601', '635']\",\n",
       " \"['5562', '5634', '5616', '1279']\",\n",
       " \"['5562', '5634', '5626', '572']\",\n",
       " \"['5562', '5634', '5626', '959']\",\n",
       " \"['5562', '5634', '5628', '574']\",\n",
       " \"['5562', '5634', '5645', '632']\",\n",
       " \"['5562', '5634', '5650', '712']\",\n",
       " \"['5562', '5634', '5663', '592']\",\n",
       " \"['5562', '5634', '5663', '708']\",\n",
       " \"['5562', '5634', '5663', '799']\",\n",
       " \"['5562', '5634', '5663', '806']\",\n",
       " \"['5562', '5634', '5672', '1273']\",\n",
       " \"['5562', '5634', '5672', '961']\",\n",
       " \"['5562', '5634', '5674', '593']\",\n",
       " \"['5562', '5634', '5682', '1634']\",\n",
       " \"['5562', '5634', '5682', '1839']\",\n",
       " \"['5562', '5634', '5682', '639']\",\n",
       " \"['5562', '5634', '5682', '835']\",\n",
       " \"['5562', '5634', '5690', '1106']\",\n",
       " \"['5562', '5634', '5693', '636']\",\n",
       " \"['5562', '5634', '5705', '1274']\",\n",
       " \"['5562', '5634', '5705', '1275']\",\n",
       " \"['5562', '5634', '5705', '1276']\",\n",
       " \"['5562', '5634', '5705', '1350']\",\n",
       " \"['5562', '5634', '5705', '1366']\",\n",
       " \"['5562', '5634', '5705', '1850']\",\n",
       " \"['5562', '5634', '5705', '595']\",\n",
       " \"['5562', '5634', '5705', '859']\",\n",
       " \"['5562', '5634', '5709', '958']\",\n",
       " \"['5562', '5683', '5538', '1123']\",\n",
       " \"['5562', '5683', '5556', '1052']\",\n",
       " \"['5562', '5683', '5556', '1053']\",\n",
       " \"['5562', '5683', '5572', '1011']\",\n",
       " \"['5562', '5683', '5572', '1314']\",\n",
       " \"['5562', '5683', '5662', '1002']\",\n",
       " \"['5562', '5683', '5662', '1003']\",\n",
       " \"['5562', '5683', '5662', '559']\",\n",
       " \"['5562', '5683', '5665', '1006']\",\n",
       " \"['5562', '5683', '5665', '1007']\",\n",
       " \"['5562', '5683', '5668', '986']\",\n",
       " \"['5562', '5683', '5668', '992']\",\n",
       " \"['5562', '5683', '5676', '1005']\",\n",
       " \"['5562', '5683', '5679', '988']\",\n",
       " \"['5562', '5683', '5695', '1013']\",\n",
       " \"['5562', '5683', '5695', '1014']\",\n",
       " \"['5562', '5683', '5695', '1016']\",\n",
       " \"['5562', '5683', '5695', '1020']\",\n",
       " \"['5562', '5683', '5695', '1378']\",\n",
       " \"['5562', '5683', '5695', '5854']\",\n",
       " \"['5562', '5683', '5698', '987']\",\n",
       " \"['5562', '5683', '5698', '991']\",\n",
       " \"['5562', '5683', '5703', '1008']\",\n",
       " \"['5562', '5683', '5703', '1009']\",\n",
       " \"['5562', '5683', '5703', '1010']\",\n",
       " \"['5562', '5683', '5703', '5857']\",\n",
       " \"['5562', '5683', '5713', '1004']\",\n",
       " \"['5562', '5697', '5591', '1103']\",\n",
       " \"['5562', '5697', '5591', '1118']\",\n",
       " \"['5562', '5697', '5591', '5755']\",\n",
       " \"['5562', '5697', '5651', '1153']\",\n",
       " \"['5562', '5697', '5694', '5746']\",\n",
       " \"['5963', '5959', '5542', '1798']\",\n",
       " \"['5963', '5959', '5542', '1799']\",\n",
       " \"['5963', '5959', '6020', '1798']\",\n",
       " \"['5963', '5959', '6020', '1799']\",\n",
       " \"['5963', '5959', '6020', '1800']\",\n",
       " \"['5963', '5959', '6021', '1043']\",\n",
       " \"['5963', '5959', '6021', '5526']\",\n",
       " \"['5963', '5959', '6021', '5978']\",\n",
       " \"['5963', '5959', '6021', '5979']\",\n",
       " \"['5963', '5959', '6021', '5980']\",\n",
       " \"['5963', '5959', '6021', '5981']\",\n",
       " \"['5963', '5959', '6021', '5982']\",\n",
       " \"['5963', '5959', '6021', '5983']\",\n",
       " \"['5963', '5959', '6021', '6079']\",\n",
       " \"['5963', '5959', '6021', '6204']\",\n",
       " \"['5963', '5959', '6021', '6205']\",\n",
       " \"['5963', '5959', '6021', '6255']\",\n",
       " \"['5963', '5959', '6021', '6257']\",\n",
       " \"['5963', '5959', '6021', '6278']\",\n",
       " \"['5963', '5959', '6021', '999']\",\n",
       " \"['5963', '5959', '6022', '840']\",\n",
       " \"['5963', '5959', '6023', '1392']\",\n",
       " \"['5963', '5959', '6023', '1589']\",\n",
       " \"['5963', '5959', '6024', '1037']\",\n",
       " \"['5963', '5959', '6024', '1039']\",\n",
       " \"['5963', '5959', '6025', '839']\",\n",
       " \"['6060', '6057', '6069', '1047']\",\n",
       " \"['6060', '6057', '6069', '1081']\",\n",
       " \"['6060', '6057', '6069', '1610']\",\n",
       " \"['6060', '6057', '6073', '1566']\",\n",
       " \"['6060', '6057', '6074', '1167']\",\n",
       " \"['6060', '6057', '6074', '1211']\",\n",
       " \"['6060', '6057', '6074', '1357']\",\n",
       " \"['6060', '6057', '6074', '1567']\",\n",
       " \"['6060', '6057', '6074', '1593']\",\n",
       " \"['6060', '6057', '6074', '1601']\",\n",
       " \"['6060', '6057', '6074', '499']\",\n",
       " \"['6060', '6057', '6074', '6046']\",\n",
       " \"['6060', '6057', '6074', '6200']\",\n",
       " \"['6060', '6057', '6074', '6239']\",\n",
       " \"['6060', '6057', '6074', '6254']\",\n",
       " \"['6060', '6057', '6074', '6269']\",\n",
       " \"['6060', '6057', '6074', '6281']\",\n",
       " \"['6060', '6057', '6074', '6296']\",\n",
       " \"['6060', '6057', '6074', '999']\",\n",
       " \"['6060', '6057', '6075', '1565']\",\n",
       " \"['6060', '6057', '6075', '1584']\",\n",
       " \"['6060', '6057', '6075', '1585']\",\n",
       " \"['6060', '6057', '6243', '6145']\",\n",
       " \"['6060', '6057', '6243', '6146']\",\n",
       " \"['6060', '6057', '6243', '6148']\",\n",
       " \"['6060', '6057', '6243', '6149']\",\n",
       " \"['6060', '6057', '6243', '6151']\",\n",
       " \"['6060', '6057', '6243', '6152']\",\n",
       " \"['6060', '6057', '6243', '6153']\",\n",
       " \"['6060', '6057', '6243', '6154']\",\n",
       " \"['6060', '6057', '6243', '6155']\",\n",
       " \"['6060', '6057', '6243', '6177']\",\n",
       " \"['6060', '6057', '6243', '6178']\",\n",
       " \"['6060', '6057', '6243', '6240']\",\n",
       " \"['6060', '6057', '6243', '6264']\",\n",
       " \"['6060', '6057', '6244', '6147']\",\n",
       " \"['6060', '6057', '6244', '6150']\",\n",
       " \"['6060', '6057', '6244', '6156']\",\n",
       " \"['6060', '6057', '6244', '6157']\",\n",
       " \"['6060', '6057', '6244', '6231']\",\n",
       " \"['6060', '6057', '6244', '6235']\",\n",
       " \"['6060', '6057', '6244', '6236']\",\n",
       " \"['6060', '6057', '6244', '6237']\",\n",
       " \"['6060', '6057', '6245', '6088']\",\n",
       " \"['6060', '6057', '6245', '6089']\",\n",
       " \"['6060', '6057', '6245', '6090']\",\n",
       " \"['6060', '6057', '6245', '6091']\",\n",
       " \"['6060', '6057', '6245', '6305']\",\n",
       " \"['6060', '6057', '6266', '6162']\",\n",
       " \"['6060', '6057', '6266', '6163']\",\n",
       " \"['6060', '6057', '6266', '6198']\",\n",
       " \"['6060', '6057', '6266', '6199']\",\n",
       " \"['6060', '6057', '6266', '6241']\",\n",
       " \"['6060', '6058', '6061', '5504']\",\n",
       " \"['6060', '6058', '6062', '5502']\",\n",
       " \"['6060', '6058', '6063', '5720']\",\n",
       " \"['6060', '6058', '6064', '5956']\",\n",
       " \"['6060', '6058', '6065', '1848']\",\n",
       " \"['6060', '6058', '6065', '5499']\",\n",
       " \"['6060', '6058', '6065', '5501']\",\n",
       " \"['6060', '6058', '6065', '5503']\",\n",
       " \"['6060', '6058', '6065', '5505']\",\n",
       " \"['6060', '6058', '6065', '5835']\",\n",
       " \"['6060', '6058', '6065', '5847']\",\n",
       " \"['6060', '6058', '6065', '6097']\",\n",
       " \"['6060', '6058', '6066', '1168']\",\n",
       " \"['6060', '6058', '6066', '5500']\",\n",
       " \"['6060', '6058', '6067', '5498']\",\n",
       " \"['6060', '6058', '6068', '5834']\",\n",
       " \"['6060', '6059', '6070', '1855']\",\n",
       " \"['6060', '6059', '6070', '1856']\",\n",
       " \"['6060', '6059', '6071', '1607']\",\n",
       " \"['6060', '6059', '6071', '1632']\",\n",
       " \"['6060', '6059', '6071', '1854']\",\n",
       " \"['6060', '6059', '6071', '1857']\",\n",
       " \"['6060', '6059', '6071', '5746']\",\n",
       " \"['6060', '6059', '6071', '5756']\",\n",
       " \"['6060', '6059', '6071', '6292']\",\n",
       " \"['6060', '6059', '6072', '1853']\",\n",
       " \"['6060', '6059', '6076', '1153']\",\n",
       " '[None]',\n",
       " '[]'}"
      ]
     },
     "execution_count": 24,
     "metadata": {},
     "output_type": "execute_result"
    }
   ],
   "source": [
    "set(purchases.category_ids.unique())"
   ]
  },
  {
   "cell_type": "code",
   "execution_count": 25,
   "id": "885c506c",
   "metadata": {
    "scrolled": false
   },
   "outputs": [
    {
     "data": {
      "text/html": [
       "<div>\n",
       "<style scoped>\n",
       "    .dataframe tbody tr th:only-of-type {\n",
       "        vertical-align: middle;\n",
       "    }\n",
       "\n",
       "    .dataframe tbody tr th {\n",
       "        vertical-align: top;\n",
       "    }\n",
       "\n",
       "    .dataframe thead th {\n",
       "        text-align: right;\n",
       "    }\n",
       "</style>\n",
       "<table border=\"1\" class=\"dataframe\">\n",
       "  <thead>\n",
       "    <tr style=\"text-align: right;\">\n",
       "      <th></th>\n",
       "      <th>client_id</th>\n",
       "      <th>quantity</th>\n",
       "      <th>price</th>\n",
       "      <th>category_ids</th>\n",
       "      <th>date</th>\n",
       "      <th>message_id</th>\n",
       "    </tr>\n",
       "  </thead>\n",
       "  <tbody>\n",
       "    <tr>\n",
       "      <th>22153</th>\n",
       "      <td>1515915625558323436</td>\n",
       "      <td>1</td>\n",
       "      <td>1.0</td>\n",
       "      <td>[]</td>\n",
       "      <td>2022-07-09</td>\n",
       "      <td>1515915625487742246-5335-62c7d2d1281c7</td>\n",
       "    </tr>\n",
       "    <tr>\n",
       "      <th>22154</th>\n",
       "      <td>1515915625558323436</td>\n",
       "      <td>1</td>\n",
       "      <td>1.0</td>\n",
       "      <td>[]</td>\n",
       "      <td>2022-07-09</td>\n",
       "      <td>1515915625487742246-5335-62c7d2d1281c7</td>\n",
       "    </tr>\n",
       "    <tr>\n",
       "      <th>49215</th>\n",
       "      <td>1515915625474537721</td>\n",
       "      <td>1</td>\n",
       "      <td>7.0</td>\n",
       "      <td>[]</td>\n",
       "      <td>2022-11-12</td>\n",
       "      <td>1515915625474537721-7803-636dfed5eb8b6</td>\n",
       "    </tr>\n",
       "    <tr>\n",
       "      <th>53223</th>\n",
       "      <td>1515915625720375281</td>\n",
       "      <td>1</td>\n",
       "      <td>5.0</td>\n",
       "      <td>[]</td>\n",
       "      <td>2022-11-13</td>\n",
       "      <td>1515915625720375281-7818-636f6ec29a382</td>\n",
       "    </tr>\n",
       "    <tr>\n",
       "      <th>59056</th>\n",
       "      <td>1515915625867975448</td>\n",
       "      <td>1</td>\n",
       "      <td>7.0</td>\n",
       "      <td>[]</td>\n",
       "      <td>2022-11-16</td>\n",
       "      <td>1515915625766044118-7879-63748749d81b5</td>\n",
       "    </tr>\n",
       "    <tr>\n",
       "      <th>...</th>\n",
       "      <td>...</td>\n",
       "      <td>...</td>\n",
       "      <td>...</td>\n",
       "      <td>...</td>\n",
       "      <td>...</td>\n",
       "      <td>...</td>\n",
       "    </tr>\n",
       "    <tr>\n",
       "      <th>201990</th>\n",
       "      <td>1515915625641742458</td>\n",
       "      <td>1</td>\n",
       "      <td>7.0</td>\n",
       "      <td>[]</td>\n",
       "      <td>2024-02-16</td>\n",
       "      <td>1515915625766077627-14668-65cf5246bd490</td>\n",
       "    </tr>\n",
       "    <tr>\n",
       "      <th>202068</th>\n",
       "      <td>1515915625955716904</td>\n",
       "      <td>1</td>\n",
       "      <td>7.0</td>\n",
       "      <td>[]</td>\n",
       "      <td>2024-02-16</td>\n",
       "      <td>1515915625955716904-14668-65cf5252e767c</td>\n",
       "    </tr>\n",
       "    <tr>\n",
       "      <th>202069</th>\n",
       "      <td>1515915625955716904</td>\n",
       "      <td>1</td>\n",
       "      <td>7.0</td>\n",
       "      <td>[]</td>\n",
       "      <td>2024-02-16</td>\n",
       "      <td>1515915625955716904-14668-65cf5252e767c</td>\n",
       "    </tr>\n",
       "    <tr>\n",
       "      <th>202144</th>\n",
       "      <td>1515915626007712189</td>\n",
       "      <td>1</td>\n",
       "      <td>12.0</td>\n",
       "      <td>[]</td>\n",
       "      <td>2024-02-16</td>\n",
       "      <td>1515915626007712189-14648-65cdb6d1c0c2a</td>\n",
       "    </tr>\n",
       "    <tr>\n",
       "      <th>202145</th>\n",
       "      <td>1515915626007712189</td>\n",
       "      <td>1</td>\n",
       "      <td>12.0</td>\n",
       "      <td>[]</td>\n",
       "      <td>2024-02-16</td>\n",
       "      <td>1515915626007712189-14648-65cdb6d1c0c2a</td>\n",
       "    </tr>\n",
       "  </tbody>\n",
       "</table>\n",
       "<p>5579 rows × 6 columns</p>\n",
       "</div>"
      ],
      "text/plain": [
       "                  client_id  quantity  price category_ids       date  \\\n",
       "22153   1515915625558323436         1    1.0           [] 2022-07-09   \n",
       "22154   1515915625558323436         1    1.0           [] 2022-07-09   \n",
       "49215   1515915625474537721         1    7.0           [] 2022-11-12   \n",
       "53223   1515915625720375281         1    5.0           [] 2022-11-13   \n",
       "59056   1515915625867975448         1    7.0           [] 2022-11-16   \n",
       "...                     ...       ...    ...          ...        ...   \n",
       "201990  1515915625641742458         1    7.0           [] 2024-02-16   \n",
       "202068  1515915625955716904         1    7.0           [] 2024-02-16   \n",
       "202069  1515915625955716904         1    7.0           [] 2024-02-16   \n",
       "202144  1515915626007712189         1   12.0           [] 2024-02-16   \n",
       "202145  1515915626007712189         1   12.0           [] 2024-02-16   \n",
       "\n",
       "                                     message_id  \n",
       "22153    1515915625487742246-5335-62c7d2d1281c7  \n",
       "22154    1515915625487742246-5335-62c7d2d1281c7  \n",
       "49215    1515915625474537721-7803-636dfed5eb8b6  \n",
       "53223    1515915625720375281-7818-636f6ec29a382  \n",
       "59056    1515915625766044118-7879-63748749d81b5  \n",
       "...                                         ...  \n",
       "201990  1515915625766077627-14668-65cf5246bd490  \n",
       "202068  1515915625955716904-14668-65cf5252e767c  \n",
       "202069  1515915625955716904-14668-65cf5252e767c  \n",
       "202144  1515915626007712189-14648-65cdb6d1c0c2a  \n",
       "202145  1515915626007712189-14648-65cdb6d1c0c2a  \n",
       "\n",
       "[5579 rows x 6 columns]"
      ]
     },
     "execution_count": 25,
     "metadata": {},
     "output_type": "execute_result"
    }
   ],
   "source": [
    "purchases[purchases.category_ids=='[]']"
   ]
  },
  {
   "cell_type": "code",
   "execution_count": 26,
   "id": "81bb74e6",
   "metadata": {},
   "outputs": [
    {
     "data": {
      "text/html": [
       "<div>\n",
       "<style scoped>\n",
       "    .dataframe tbody tr th:only-of-type {\n",
       "        vertical-align: middle;\n",
       "    }\n",
       "\n",
       "    .dataframe tbody tr th {\n",
       "        vertical-align: top;\n",
       "    }\n",
       "\n",
       "    .dataframe thead th {\n",
       "        text-align: right;\n",
       "    }\n",
       "</style>\n",
       "<table border=\"1\" class=\"dataframe\">\n",
       "  <thead>\n",
       "    <tr style=\"text-align: right;\">\n",
       "      <th></th>\n",
       "      <th>client_id</th>\n",
       "      <th>quantity</th>\n",
       "      <th>price</th>\n",
       "      <th>category_ids</th>\n",
       "      <th>date</th>\n",
       "      <th>message_id</th>\n",
       "    </tr>\n",
       "  </thead>\n",
       "  <tbody>\n",
       "    <tr>\n",
       "      <th>14848</th>\n",
       "      <td>1515915625649908756</td>\n",
       "      <td>1</td>\n",
       "      <td>2499.0</td>\n",
       "      <td>[None]</td>\n",
       "      <td>2022-06-17</td>\n",
       "      <td>1515915625649908756-4981-62ac2dbf52fad</td>\n",
       "    </tr>\n",
       "    <tr>\n",
       "      <th>32281</th>\n",
       "      <td>1515915625578652401</td>\n",
       "      <td>1</td>\n",
       "      <td>8.0</td>\n",
       "      <td>[None]</td>\n",
       "      <td>2022-08-19</td>\n",
       "      <td>1515915625815834300-5922-62ff35494e05f</td>\n",
       "    </tr>\n",
       "    <tr>\n",
       "      <th>32282</th>\n",
       "      <td>1515915625578652401</td>\n",
       "      <td>1</td>\n",
       "      <td>8.0</td>\n",
       "      <td>[None]</td>\n",
       "      <td>2022-08-19</td>\n",
       "      <td>1515915625815834300-5922-62ff35494e05f</td>\n",
       "    </tr>\n",
       "    <tr>\n",
       "      <th>32283</th>\n",
       "      <td>1515915625578652401</td>\n",
       "      <td>1</td>\n",
       "      <td>1.0</td>\n",
       "      <td>[None]</td>\n",
       "      <td>2022-08-19</td>\n",
       "      <td>1515915625815834300-5922-62ff35494e05f</td>\n",
       "    </tr>\n",
       "    <tr>\n",
       "      <th>32284</th>\n",
       "      <td>1515915625578652401</td>\n",
       "      <td>1</td>\n",
       "      <td>1.0</td>\n",
       "      <td>[None]</td>\n",
       "      <td>2022-08-19</td>\n",
       "      <td>1515915625815834300-5922-62ff35494e05f</td>\n",
       "    </tr>\n",
       "    <tr>\n",
       "      <th>...</th>\n",
       "      <td>...</td>\n",
       "      <td>...</td>\n",
       "      <td>...</td>\n",
       "      <td>...</td>\n",
       "      <td>...</td>\n",
       "      <td>...</td>\n",
       "    </tr>\n",
       "    <tr>\n",
       "      <th>61644</th>\n",
       "      <td>1515915625498389673</td>\n",
       "      <td>1</td>\n",
       "      <td>7.0</td>\n",
       "      <td>[None]</td>\n",
       "      <td>2022-11-27</td>\n",
       "      <td>1515915625498389673-8033-637dbe2f79e78</td>\n",
       "    </tr>\n",
       "    <tr>\n",
       "      <th>61835</th>\n",
       "      <td>1515915625642965095</td>\n",
       "      <td>1</td>\n",
       "      <td>7.0</td>\n",
       "      <td>[None]</td>\n",
       "      <td>2022-11-27</td>\n",
       "      <td>1515915625642965095-8169-6381ebba96708</td>\n",
       "    </tr>\n",
       "    <tr>\n",
       "      <th>61836</th>\n",
       "      <td>1515915625642965095</td>\n",
       "      <td>1</td>\n",
       "      <td>7.0</td>\n",
       "      <td>[None]</td>\n",
       "      <td>2022-11-27</td>\n",
       "      <td>1515915625642965095-8169-6381ebba96708</td>\n",
       "    </tr>\n",
       "    <tr>\n",
       "      <th>61853</th>\n",
       "      <td>1515915625689243228</td>\n",
       "      <td>1</td>\n",
       "      <td>7.0</td>\n",
       "      <td>[None]</td>\n",
       "      <td>2022-11-27</td>\n",
       "      <td>1515915625689243228-8169-6381ebbc96437</td>\n",
       "    </tr>\n",
       "    <tr>\n",
       "      <th>61854</th>\n",
       "      <td>1515915625689243228</td>\n",
       "      <td>1</td>\n",
       "      <td>7.0</td>\n",
       "      <td>[None]</td>\n",
       "      <td>2022-11-27</td>\n",
       "      <td>1515915625689243228-8169-6381ebbc96437</td>\n",
       "    </tr>\n",
       "  </tbody>\n",
       "</table>\n",
       "<p>1264 rows × 6 columns</p>\n",
       "</div>"
      ],
      "text/plain": [
       "                 client_id  quantity   price category_ids       date  \\\n",
       "14848  1515915625649908756         1  2499.0       [None] 2022-06-17   \n",
       "32281  1515915625578652401         1     8.0       [None] 2022-08-19   \n",
       "32282  1515915625578652401         1     8.0       [None] 2022-08-19   \n",
       "32283  1515915625578652401         1     1.0       [None] 2022-08-19   \n",
       "32284  1515915625578652401         1     1.0       [None] 2022-08-19   \n",
       "...                    ...       ...     ...          ...        ...   \n",
       "61644  1515915625498389673         1     7.0       [None] 2022-11-27   \n",
       "61835  1515915625642965095         1     7.0       [None] 2022-11-27   \n",
       "61836  1515915625642965095         1     7.0       [None] 2022-11-27   \n",
       "61853  1515915625689243228         1     7.0       [None] 2022-11-27   \n",
       "61854  1515915625689243228         1     7.0       [None] 2022-11-27   \n",
       "\n",
       "                                   message_id  \n",
       "14848  1515915625649908756-4981-62ac2dbf52fad  \n",
       "32281  1515915625815834300-5922-62ff35494e05f  \n",
       "32282  1515915625815834300-5922-62ff35494e05f  \n",
       "32283  1515915625815834300-5922-62ff35494e05f  \n",
       "32284  1515915625815834300-5922-62ff35494e05f  \n",
       "...                                       ...  \n",
       "61644  1515915625498389673-8033-637dbe2f79e78  \n",
       "61835  1515915625642965095-8169-6381ebba96708  \n",
       "61836  1515915625642965095-8169-6381ebba96708  \n",
       "61853  1515915625689243228-8169-6381ebbc96437  \n",
       "61854  1515915625689243228-8169-6381ebbc96437  \n",
       "\n",
       "[1264 rows x 6 columns]"
      ]
     },
     "execution_count": 26,
     "metadata": {},
     "output_type": "execute_result"
    }
   ],
   "source": [
    "purchases[purchases.category_ids=='[None]']"
   ]
  },
  {
   "cell_type": "markdown",
   "id": "02571ded",
   "metadata": {},
   "source": [
    "Выявлено 5579 записей с пустыми списками категорий и 1264 записи с категорией None. Приведем их к значению 0."
   ]
  },
  {
   "cell_type": "code",
   "execution_count": 27,
   "id": "b66a2ea7",
   "metadata": {},
   "outputs": [],
   "source": [
    "purchases.category_ids = np.where(purchases.category_ids=='[]', '0', purchases.category_ids)"
   ]
  },
  {
   "cell_type": "code",
   "execution_count": 28,
   "id": "c541d730",
   "metadata": {},
   "outputs": [],
   "source": [
    "purchases.category_ids = np.where(purchases.category_ids=='[None]', '0', purchases.category_ids)"
   ]
  },
  {
   "cell_type": "markdown",
   "id": "cd14c02e",
   "metadata": {},
   "source": [
    "Создадим новый признак - основная категория. Для его создания заменим"
   ]
  },
  {
   "cell_type": "code",
   "execution_count": 29,
   "id": "246333ff",
   "metadata": {
    "scrolled": true
   },
   "outputs": [],
   "source": [
    "purchases['category_main'] = purchases.category_ids.str.extract('(\\d+)')"
   ]
  },
  {
   "cell_type": "code",
   "execution_count": 30,
   "id": "91036e49",
   "metadata": {},
   "outputs": [
    {
     "data": {
      "text/html": [
       "<div>\n",
       "<style scoped>\n",
       "    .dataframe tbody tr th:only-of-type {\n",
       "        vertical-align: middle;\n",
       "    }\n",
       "\n",
       "    .dataframe tbody tr th {\n",
       "        vertical-align: top;\n",
       "    }\n",
       "\n",
       "    .dataframe thead th {\n",
       "        text-align: right;\n",
       "    }\n",
       "</style>\n",
       "<table border=\"1\" class=\"dataframe\">\n",
       "  <thead>\n",
       "    <tr style=\"text-align: right;\">\n",
       "      <th></th>\n",
       "      <th>client_id</th>\n",
       "      <th>quantity</th>\n",
       "      <th>price</th>\n",
       "      <th>category_ids</th>\n",
       "      <th>date</th>\n",
       "      <th>message_id</th>\n",
       "      <th>category_main</th>\n",
       "    </tr>\n",
       "  </thead>\n",
       "  <tbody>\n",
       "    <tr>\n",
       "      <th>0</th>\n",
       "      <td>1515915625468169594</td>\n",
       "      <td>1</td>\n",
       "      <td>1999.0</td>\n",
       "      <td>['4', '28', '57', '431']</td>\n",
       "      <td>2022-05-16</td>\n",
       "      <td>1515915625468169594-4301-627b661e9736d</td>\n",
       "      <td>4</td>\n",
       "    </tr>\n",
       "    <tr>\n",
       "      <th>1</th>\n",
       "      <td>1515915625468169594</td>\n",
       "      <td>1</td>\n",
       "      <td>2499.0</td>\n",
       "      <td>['4', '28', '57', '431']</td>\n",
       "      <td>2022-05-16</td>\n",
       "      <td>1515915625468169594-4301-627b661e9736d</td>\n",
       "      <td>4</td>\n",
       "    </tr>\n",
       "    <tr>\n",
       "      <th>2</th>\n",
       "      <td>1515915625471138230</td>\n",
       "      <td>1</td>\n",
       "      <td>6499.0</td>\n",
       "      <td>['4', '28', '57', '431']</td>\n",
       "      <td>2022-05-16</td>\n",
       "      <td>1515915625471138230-4437-6282242f27843</td>\n",
       "      <td>4</td>\n",
       "    </tr>\n",
       "    <tr>\n",
       "      <th>3</th>\n",
       "      <td>1515915625471138230</td>\n",
       "      <td>1</td>\n",
       "      <td>4999.0</td>\n",
       "      <td>['4', '28', '244', '432']</td>\n",
       "      <td>2022-05-16</td>\n",
       "      <td>1515915625471138230-4437-6282242f27843</td>\n",
       "      <td>4</td>\n",
       "    </tr>\n",
       "    <tr>\n",
       "      <th>4</th>\n",
       "      <td>1515915625471138230</td>\n",
       "      <td>1</td>\n",
       "      <td>4999.0</td>\n",
       "      <td>['4', '28', '49', '413']</td>\n",
       "      <td>2022-05-16</td>\n",
       "      <td>1515915625471138230-4437-6282242f27843</td>\n",
       "      <td>4</td>\n",
       "    </tr>\n",
       "  </tbody>\n",
       "</table>\n",
       "</div>"
      ],
      "text/plain": [
       "             client_id  quantity   price               category_ids  \\\n",
       "0  1515915625468169594         1  1999.0   ['4', '28', '57', '431']   \n",
       "1  1515915625468169594         1  2499.0   ['4', '28', '57', '431']   \n",
       "2  1515915625471138230         1  6499.0   ['4', '28', '57', '431']   \n",
       "3  1515915625471138230         1  4999.0  ['4', '28', '244', '432']   \n",
       "4  1515915625471138230         1  4999.0   ['4', '28', '49', '413']   \n",
       "\n",
       "        date                              message_id category_main  \n",
       "0 2022-05-16  1515915625468169594-4301-627b661e9736d             4  \n",
       "1 2022-05-16  1515915625468169594-4301-627b661e9736d             4  \n",
       "2 2022-05-16  1515915625471138230-4437-6282242f27843             4  \n",
       "3 2022-05-16  1515915625471138230-4437-6282242f27843             4  \n",
       "4 2022-05-16  1515915625471138230-4437-6282242f27843             4  "
      ]
     },
     "execution_count": 30,
     "metadata": {},
     "output_type": "execute_result"
    }
   ],
   "source": [
    "purchases.head()"
   ]
  },
  {
   "cell_type": "code",
   "execution_count": 31,
   "id": "cb5e85c3",
   "metadata": {},
   "outputs": [
    {
     "name": "stdout",
     "output_type": "stream",
     "text": [
      "<class 'pandas.core.frame.DataFrame'>\n",
      "RangeIndex: 202208 entries, 0 to 202207\n",
      "Data columns (total 7 columns):\n",
      " #   Column         Non-Null Count   Dtype         \n",
      "---  ------         --------------   -----         \n",
      " 0   client_id      202208 non-null  int64         \n",
      " 1   quantity       202208 non-null  int64         \n",
      " 2   price          202208 non-null  float64       \n",
      " 3   category_ids   202208 non-null  object        \n",
      " 4   date           202208 non-null  datetime64[ns]\n",
      " 5   message_id     202208 non-null  object        \n",
      " 6   category_main  202208 non-null  object        \n",
      "dtypes: datetime64[ns](1), float64(1), int64(2), object(3)\n",
      "memory usage: 10.8+ MB\n"
     ]
    }
   ],
   "source": [
    "purchases.info()"
   ]
  },
  {
   "cell_type": "code",
   "execution_count": 32,
   "id": "6e7dc222",
   "metadata": {},
   "outputs": [],
   "source": [
    "purchases['total_price'] = purchases['quantity'] * purchases['price']"
   ]
  },
  {
   "cell_type": "code",
   "execution_count": 33,
   "id": "2dbc2dfd",
   "metadata": {
    "scrolled": true
   },
   "outputs": [
    {
     "data": {
      "text/html": [
       "<div>\n",
       "<style scoped>\n",
       "    .dataframe tbody tr th:only-of-type {\n",
       "        vertical-align: middle;\n",
       "    }\n",
       "\n",
       "    .dataframe tbody tr th {\n",
       "        vertical-align: top;\n",
       "    }\n",
       "\n",
       "    .dataframe thead th {\n",
       "        text-align: right;\n",
       "    }\n",
       "</style>\n",
       "<table border=\"1\" class=\"dataframe\">\n",
       "  <thead>\n",
       "    <tr style=\"text-align: right;\">\n",
       "      <th></th>\n",
       "      <th>client_id</th>\n",
       "      <th>quantity</th>\n",
       "      <th>price</th>\n",
       "      <th>category_ids</th>\n",
       "      <th>date</th>\n",
       "      <th>message_id</th>\n",
       "      <th>category_main</th>\n",
       "      <th>total_price</th>\n",
       "    </tr>\n",
       "  </thead>\n",
       "  <tbody>\n",
       "    <tr>\n",
       "      <th>0</th>\n",
       "      <td>1515915625468169594</td>\n",
       "      <td>1</td>\n",
       "      <td>1999.0</td>\n",
       "      <td>['4', '28', '57', '431']</td>\n",
       "      <td>2022-05-16</td>\n",
       "      <td>1515915625468169594-4301-627b661e9736d</td>\n",
       "      <td>4</td>\n",
       "      <td>1999.0</td>\n",
       "    </tr>\n",
       "    <tr>\n",
       "      <th>1</th>\n",
       "      <td>1515915625468169594</td>\n",
       "      <td>1</td>\n",
       "      <td>2499.0</td>\n",
       "      <td>['4', '28', '57', '431']</td>\n",
       "      <td>2022-05-16</td>\n",
       "      <td>1515915625468169594-4301-627b661e9736d</td>\n",
       "      <td>4</td>\n",
       "      <td>2499.0</td>\n",
       "    </tr>\n",
       "    <tr>\n",
       "      <th>2</th>\n",
       "      <td>1515915625471138230</td>\n",
       "      <td>1</td>\n",
       "      <td>6499.0</td>\n",
       "      <td>['4', '28', '57', '431']</td>\n",
       "      <td>2022-05-16</td>\n",
       "      <td>1515915625471138230-4437-6282242f27843</td>\n",
       "      <td>4</td>\n",
       "      <td>6499.0</td>\n",
       "    </tr>\n",
       "    <tr>\n",
       "      <th>3</th>\n",
       "      <td>1515915625471138230</td>\n",
       "      <td>1</td>\n",
       "      <td>4999.0</td>\n",
       "      <td>['4', '28', '244', '432']</td>\n",
       "      <td>2022-05-16</td>\n",
       "      <td>1515915625471138230-4437-6282242f27843</td>\n",
       "      <td>4</td>\n",
       "      <td>4999.0</td>\n",
       "    </tr>\n",
       "    <tr>\n",
       "      <th>4</th>\n",
       "      <td>1515915625471138230</td>\n",
       "      <td>1</td>\n",
       "      <td>4999.0</td>\n",
       "      <td>['4', '28', '49', '413']</td>\n",
       "      <td>2022-05-16</td>\n",
       "      <td>1515915625471138230-4437-6282242f27843</td>\n",
       "      <td>4</td>\n",
       "      <td>4999.0</td>\n",
       "    </tr>\n",
       "  </tbody>\n",
       "</table>\n",
       "</div>"
      ],
      "text/plain": [
       "             client_id  quantity   price               category_ids  \\\n",
       "0  1515915625468169594         1  1999.0   ['4', '28', '57', '431']   \n",
       "1  1515915625468169594         1  2499.0   ['4', '28', '57', '431']   \n",
       "2  1515915625471138230         1  6499.0   ['4', '28', '57', '431']   \n",
       "3  1515915625471138230         1  4999.0  ['4', '28', '244', '432']   \n",
       "4  1515915625471138230         1  4999.0   ['4', '28', '49', '413']   \n",
       "\n",
       "        date                              message_id category_main  \\\n",
       "0 2022-05-16  1515915625468169594-4301-627b661e9736d             4   \n",
       "1 2022-05-16  1515915625468169594-4301-627b661e9736d             4   \n",
       "2 2022-05-16  1515915625471138230-4437-6282242f27843             4   \n",
       "3 2022-05-16  1515915625471138230-4437-6282242f27843             4   \n",
       "4 2022-05-16  1515915625471138230-4437-6282242f27843             4   \n",
       "\n",
       "   total_price  \n",
       "0       1999.0  \n",
       "1       2499.0  \n",
       "2       6499.0  \n",
       "3       4999.0  \n",
       "4       4999.0  "
      ]
     },
     "execution_count": 33,
     "metadata": {},
     "output_type": "execute_result"
    }
   ],
   "source": [
    "purchases.head()"
   ]
  },
  {
   "cell_type": "code",
   "execution_count": 34,
   "id": "53aeea31",
   "metadata": {
    "scrolled": false
   },
   "outputs": [
    {
     "data": {
      "text/plain": [
       "category_main\n",
       "4       112578\n",
       "5562     46511\n",
       "2        27429\n",
       "6060      7559\n",
       "0         6843\n",
       "5963      1272\n",
       "3           11\n",
       "1            3\n",
       "5            2\n",
       "Name: count, dtype: int64"
      ]
     },
     "execution_count": 34,
     "metadata": {},
     "output_type": "execute_result"
    }
   ],
   "source": [
    "purchases.category_main.value_counts()"
   ]
  },
  {
   "cell_type": "code",
   "execution_count": 35,
   "id": "20190a6e",
   "metadata": {},
   "outputs": [
    {
     "name": "stdout",
     "output_type": "stream",
     "text": [
      "<class 'pandas.core.frame.DataFrame'>\n",
      "RangeIndex: 202208 entries, 0 to 202207\n",
      "Data columns (total 8 columns):\n",
      " #   Column         Non-Null Count   Dtype         \n",
      "---  ------         --------------   -----         \n",
      " 0   client_id      202208 non-null  int64         \n",
      " 1   quantity       202208 non-null  int64         \n",
      " 2   price          202208 non-null  float64       \n",
      " 3   category_ids   202208 non-null  object        \n",
      " 4   date           202208 non-null  datetime64[ns]\n",
      " 5   message_id     202208 non-null  object        \n",
      " 6   category_main  202208 non-null  object        \n",
      " 7   total_price    202208 non-null  float64       \n",
      "dtypes: datetime64[ns](1), float64(2), int64(2), object(3)\n",
      "memory usage: 12.3+ MB\n"
     ]
    }
   ],
   "source": [
    "purchases.info()"
   ]
  },
  {
   "cell_type": "code",
   "execution_count": 36,
   "id": "39ac81f1",
   "metadata": {},
   "outputs": [],
   "source": [
    "purch_pivot = pd.pivot_table(purchases, index='client_id', aggfunc = {'quantity': 'sum', 'total_price' : 'sum', 'date' : ['max', pd.Series.nunique], 'message_id' : pd.Series.nunique, 'category_main' : lambda x:x.value_counts().index[0]})"
   ]
  },
  {
   "cell_type": "code",
   "execution_count": 37,
   "id": "1cb43132",
   "metadata": {},
   "outputs": [
    {
     "name": "stdout",
     "output_type": "stream",
     "text": [
      "<class 'pandas.core.frame.DataFrame'>\n",
      "Index: 49849 entries, 1515915625468060902 to 1515915626010443624\n",
      "Data columns (total 6 columns):\n",
      " #   Column                     Non-Null Count  Dtype         \n",
      "---  ------                     --------------  -----         \n",
      " 0   (category_main, <lambda>)  49849 non-null  object        \n",
      " 1   (date, max)                49849 non-null  datetime64[ns]\n",
      " 2   (date, nunique)            49849 non-null  int64         \n",
      " 3   (message_id, nunique)      49849 non-null  int64         \n",
      " 4   (quantity, sum)            49849 non-null  int64         \n",
      " 5   (total_price, sum)         49849 non-null  float64       \n",
      "dtypes: datetime64[ns](1), float64(1), int64(3), object(1)\n",
      "memory usage: 2.7+ MB\n"
     ]
    }
   ],
   "source": [
    "purch_pivot.info()"
   ]
  },
  {
   "cell_type": "code",
   "execution_count": 38,
   "id": "85b58df1",
   "metadata": {},
   "outputs": [
    {
     "data": {
      "text/html": [
       "<div>\n",
       "<style scoped>\n",
       "    .dataframe tbody tr th:only-of-type {\n",
       "        vertical-align: middle;\n",
       "    }\n",
       "\n",
       "    .dataframe tbody tr th {\n",
       "        vertical-align: top;\n",
       "    }\n",
       "\n",
       "    .dataframe thead tr th {\n",
       "        text-align: left;\n",
       "    }\n",
       "\n",
       "    .dataframe thead tr:last-of-type th {\n",
       "        text-align: right;\n",
       "    }\n",
       "</style>\n",
       "<table border=\"1\" class=\"dataframe\">\n",
       "  <thead>\n",
       "    <tr>\n",
       "      <th></th>\n",
       "      <th>category_main</th>\n",
       "      <th colspan=\"2\" halign=\"left\">date</th>\n",
       "      <th>message_id</th>\n",
       "      <th>quantity</th>\n",
       "      <th>total_price</th>\n",
       "    </tr>\n",
       "    <tr>\n",
       "      <th></th>\n",
       "      <th>&lt;lambda&gt;</th>\n",
       "      <th>max</th>\n",
       "      <th>nunique</th>\n",
       "      <th>nunique</th>\n",
       "      <th>sum</th>\n",
       "      <th>sum</th>\n",
       "    </tr>\n",
       "    <tr>\n",
       "      <th>client_id</th>\n",
       "      <th></th>\n",
       "      <th></th>\n",
       "      <th></th>\n",
       "      <th></th>\n",
       "      <th></th>\n",
       "      <th></th>\n",
       "    </tr>\n",
       "  </thead>\n",
       "  <tbody>\n",
       "    <tr>\n",
       "      <th>1515915625468060902</th>\n",
       "      <td>4</td>\n",
       "      <td>2022-05-27</td>\n",
       "      <td>1</td>\n",
       "      <td>1</td>\n",
       "      <td>7</td>\n",
       "      <td>6993.0</td>\n",
       "    </tr>\n",
       "    <tr>\n",
       "      <th>1515915625468061003</th>\n",
       "      <td>4</td>\n",
       "      <td>2023-01-04</td>\n",
       "      <td>1</td>\n",
       "      <td>1</td>\n",
       "      <td>7</td>\n",
       "      <td>16235.0</td>\n",
       "    </tr>\n",
       "    <tr>\n",
       "      <th>1515915625468061099</th>\n",
       "      <td>4</td>\n",
       "      <td>2022-05-17</td>\n",
       "      <td>1</td>\n",
       "      <td>1</td>\n",
       "      <td>1</td>\n",
       "      <td>299.0</td>\n",
       "    </tr>\n",
       "    <tr>\n",
       "      <th>1515915625468061100</th>\n",
       "      <td>4</td>\n",
       "      <td>2024-02-10</td>\n",
       "      <td>1</td>\n",
       "      <td>1</td>\n",
       "      <td>2</td>\n",
       "      <td>2098.0</td>\n",
       "    </tr>\n",
       "    <tr>\n",
       "      <th>1515915625468061170</th>\n",
       "      <td>4</td>\n",
       "      <td>2023-06-17</td>\n",
       "      <td>3</td>\n",
       "      <td>3</td>\n",
       "      <td>19</td>\n",
       "      <td>33601.0</td>\n",
       "    </tr>\n",
       "  </tbody>\n",
       "</table>\n",
       "</div>"
      ],
      "text/plain": [
       "                    category_main       date         message_id quantity  \\\n",
       "                         <lambda>        max nunique    nunique      sum   \n",
       "client_id                                                                  \n",
       "1515915625468060902             4 2022-05-27       1          1        7   \n",
       "1515915625468061003             4 2023-01-04       1          1        7   \n",
       "1515915625468061099             4 2022-05-17       1          1        1   \n",
       "1515915625468061100             4 2024-02-10       1          1        2   \n",
       "1515915625468061170             4 2023-06-17       3          3       19   \n",
       "\n",
       "                    total_price  \n",
       "                            sum  \n",
       "client_id                        \n",
       "1515915625468060902      6993.0  \n",
       "1515915625468061003     16235.0  \n",
       "1515915625468061099       299.0  \n",
       "1515915625468061100      2098.0  \n",
       "1515915625468061170     33601.0  "
      ]
     },
     "execution_count": 38,
     "metadata": {},
     "output_type": "execute_result"
    }
   ],
   "source": [
    "purch_pivot.head()"
   ]
  },
  {
   "cell_type": "code",
   "execution_count": 39,
   "id": "4be192b2",
   "metadata": {},
   "outputs": [],
   "source": [
    "purch_pivot.columns = ['main_category', 'last_order', 'date_count', 'message_total', 'total_quantity', 'total_price']"
   ]
  },
  {
   "cell_type": "code",
   "execution_count": 40,
   "id": "713c974c",
   "metadata": {},
   "outputs": [
    {
     "name": "stdout",
     "output_type": "stream",
     "text": [
      "<class 'pandas.core.frame.DataFrame'>\n",
      "Index: 49849 entries, 1515915625468060902 to 1515915626010443624\n",
      "Data columns (total 6 columns):\n",
      " #   Column          Non-Null Count  Dtype         \n",
      "---  ------          --------------  -----         \n",
      " 0   main_category   49849 non-null  object        \n",
      " 1   last_order      49849 non-null  datetime64[ns]\n",
      " 2   date_count      49849 non-null  int64         \n",
      " 3   message_total   49849 non-null  int64         \n",
      " 4   total_quantity  49849 non-null  int64         \n",
      " 5   total_price     49849 non-null  float64       \n",
      "dtypes: datetime64[ns](1), float64(1), int64(3), object(1)\n",
      "memory usage: 2.7+ MB\n"
     ]
    }
   ],
   "source": [
    "purch_pivot.info()"
   ]
  },
  {
   "cell_type": "code",
   "execution_count": 41,
   "id": "5156790e",
   "metadata": {},
   "outputs": [],
   "source": [
    "purch_pivot = purch_pivot.reset_index().rename(columns={'index':'client_id'})"
   ]
  },
  {
   "cell_type": "code",
   "execution_count": 42,
   "id": "fb8cd9af",
   "metadata": {
    "scrolled": false
   },
   "outputs": [
    {
     "data": {
      "text/html": [
       "<div>\n",
       "<style scoped>\n",
       "    .dataframe tbody tr th:only-of-type {\n",
       "        vertical-align: middle;\n",
       "    }\n",
       "\n",
       "    .dataframe tbody tr th {\n",
       "        vertical-align: top;\n",
       "    }\n",
       "\n",
       "    .dataframe thead th {\n",
       "        text-align: right;\n",
       "    }\n",
       "</style>\n",
       "<table border=\"1\" class=\"dataframe\">\n",
       "  <thead>\n",
       "    <tr style=\"text-align: right;\">\n",
       "      <th></th>\n",
       "      <th>client_id</th>\n",
       "      <th>main_category</th>\n",
       "      <th>last_order</th>\n",
       "      <th>date_count</th>\n",
       "      <th>message_total</th>\n",
       "      <th>total_quantity</th>\n",
       "      <th>total_price</th>\n",
       "    </tr>\n",
       "  </thead>\n",
       "  <tbody>\n",
       "    <tr>\n",
       "      <th>0</th>\n",
       "      <td>1515915625468060902</td>\n",
       "      <td>4</td>\n",
       "      <td>2022-05-27</td>\n",
       "      <td>1</td>\n",
       "      <td>1</td>\n",
       "      <td>7</td>\n",
       "      <td>6993.0</td>\n",
       "    </tr>\n",
       "    <tr>\n",
       "      <th>1</th>\n",
       "      <td>1515915625468061003</td>\n",
       "      <td>4</td>\n",
       "      <td>2023-01-04</td>\n",
       "      <td>1</td>\n",
       "      <td>1</td>\n",
       "      <td>7</td>\n",
       "      <td>16235.0</td>\n",
       "    </tr>\n",
       "    <tr>\n",
       "      <th>2</th>\n",
       "      <td>1515915625468061099</td>\n",
       "      <td>4</td>\n",
       "      <td>2022-05-17</td>\n",
       "      <td>1</td>\n",
       "      <td>1</td>\n",
       "      <td>1</td>\n",
       "      <td>299.0</td>\n",
       "    </tr>\n",
       "    <tr>\n",
       "      <th>3</th>\n",
       "      <td>1515915625468061100</td>\n",
       "      <td>4</td>\n",
       "      <td>2024-02-10</td>\n",
       "      <td>1</td>\n",
       "      <td>1</td>\n",
       "      <td>2</td>\n",
       "      <td>2098.0</td>\n",
       "    </tr>\n",
       "    <tr>\n",
       "      <th>4</th>\n",
       "      <td>1515915625468061170</td>\n",
       "      <td>4</td>\n",
       "      <td>2023-06-17</td>\n",
       "      <td>3</td>\n",
       "      <td>3</td>\n",
       "      <td>19</td>\n",
       "      <td>33601.0</td>\n",
       "    </tr>\n",
       "  </tbody>\n",
       "</table>\n",
       "</div>"
      ],
      "text/plain": [
       "             client_id main_category last_order  date_count  message_total  \\\n",
       "0  1515915625468060902             4 2022-05-27           1              1   \n",
       "1  1515915625468061003             4 2023-01-04           1              1   \n",
       "2  1515915625468061099             4 2022-05-17           1              1   \n",
       "3  1515915625468061100             4 2024-02-10           1              1   \n",
       "4  1515915625468061170             4 2023-06-17           3              3   \n",
       "\n",
       "   total_quantity  total_price  \n",
       "0               7       6993.0  \n",
       "1               7      16235.0  \n",
       "2               1        299.0  \n",
       "3               2       2098.0  \n",
       "4              19      33601.0  "
      ]
     },
     "execution_count": 42,
     "metadata": {},
     "output_type": "execute_result"
    }
   ],
   "source": [
    "purch_pivot.head()"
   ]
  },
  {
   "cell_type": "code",
   "execution_count": 43,
   "id": "04b405f1",
   "metadata": {},
   "outputs": [
    {
     "data": {
      "text/plain": [
       "main_category\n",
       "4       30034\n",
       "5562     9644\n",
       "2        7723\n",
       "6060     1134\n",
       "0        1010\n",
       "5963      304\n",
       "Name: count, dtype: int64"
      ]
     },
     "execution_count": 43,
     "metadata": {},
     "output_type": "execute_result"
    }
   ],
   "source": [
    "purch_pivot.main_category.value_counts()"
   ]
  },
  {
   "cell_type": "markdown",
   "id": "cf1a3b26",
   "metadata": {},
   "source": [
    "Создадим признак число дней с последнего заказа"
   ]
  },
  {
   "cell_type": "code",
   "execution_count": 44,
   "id": "364424c4",
   "metadata": {},
   "outputs": [],
   "source": [
    "last_date = pd.to_datetime(purchases['date'].dt.date.max())"
   ]
  },
  {
   "cell_type": "code",
   "execution_count": 45,
   "id": "4596d9d3",
   "metadata": {
    "scrolled": true
   },
   "outputs": [
    {
     "data": {
      "text/plain": [
       "Timestamp('2024-02-16 00:00:00')"
      ]
     },
     "execution_count": 45,
     "metadata": {},
     "output_type": "execute_result"
    }
   ],
   "source": [
    "last_date"
   ]
  },
  {
   "cell_type": "code",
   "execution_count": 46,
   "id": "d5d35445",
   "metadata": {},
   "outputs": [
    {
     "data": {
      "text/plain": [
       "0       2022-05-27\n",
       "1       2023-01-04\n",
       "2       2022-05-17\n",
       "3       2024-02-10\n",
       "4       2023-06-17\n",
       "           ...    \n",
       "49844   2024-02-16\n",
       "49845   2024-02-14\n",
       "49846   2024-02-16\n",
       "49847   2024-02-16\n",
       "49848   2024-02-16\n",
       "Name: last_order, Length: 49849, dtype: datetime64[ns]"
      ]
     },
     "execution_count": 46,
     "metadata": {},
     "output_type": "execute_result"
    }
   ],
   "source": [
    "purch_pivot['last_order']"
   ]
  },
  {
   "cell_type": "code",
   "execution_count": 47,
   "id": "ab3f9c14",
   "metadata": {},
   "outputs": [],
   "source": [
    "purch_pivot['days_to_last'] = last_date - purch_pivot['last_order']\n",
    "purch_pivot['days_to_last'] = purch_pivot['days_to_last'].dt.days\n",
    "purch_pivot.drop('last_order', axis=1, inplace=True)"
   ]
  },
  {
   "cell_type": "code",
   "execution_count": 48,
   "id": "f314b1f4",
   "metadata": {
    "scrolled": false
   },
   "outputs": [
    {
     "data": {
      "text/html": [
       "<div>\n",
       "<style scoped>\n",
       "    .dataframe tbody tr th:only-of-type {\n",
       "        vertical-align: middle;\n",
       "    }\n",
       "\n",
       "    .dataframe tbody tr th {\n",
       "        vertical-align: top;\n",
       "    }\n",
       "\n",
       "    .dataframe thead th {\n",
       "        text-align: right;\n",
       "    }\n",
       "</style>\n",
       "<table border=\"1\" class=\"dataframe\">\n",
       "  <thead>\n",
       "    <tr style=\"text-align: right;\">\n",
       "      <th></th>\n",
       "      <th>client_id</th>\n",
       "      <th>main_category</th>\n",
       "      <th>date_count</th>\n",
       "      <th>message_total</th>\n",
       "      <th>total_quantity</th>\n",
       "      <th>total_price</th>\n",
       "      <th>days_to_last</th>\n",
       "    </tr>\n",
       "  </thead>\n",
       "  <tbody>\n",
       "    <tr>\n",
       "      <th>0</th>\n",
       "      <td>1515915625468060902</td>\n",
       "      <td>4</td>\n",
       "      <td>1</td>\n",
       "      <td>1</td>\n",
       "      <td>7</td>\n",
       "      <td>6993.0</td>\n",
       "      <td>630</td>\n",
       "    </tr>\n",
       "    <tr>\n",
       "      <th>1</th>\n",
       "      <td>1515915625468061003</td>\n",
       "      <td>4</td>\n",
       "      <td>1</td>\n",
       "      <td>1</td>\n",
       "      <td>7</td>\n",
       "      <td>16235.0</td>\n",
       "      <td>408</td>\n",
       "    </tr>\n",
       "    <tr>\n",
       "      <th>2</th>\n",
       "      <td>1515915625468061099</td>\n",
       "      <td>4</td>\n",
       "      <td>1</td>\n",
       "      <td>1</td>\n",
       "      <td>1</td>\n",
       "      <td>299.0</td>\n",
       "      <td>640</td>\n",
       "    </tr>\n",
       "    <tr>\n",
       "      <th>3</th>\n",
       "      <td>1515915625468061100</td>\n",
       "      <td>4</td>\n",
       "      <td>1</td>\n",
       "      <td>1</td>\n",
       "      <td>2</td>\n",
       "      <td>2098.0</td>\n",
       "      <td>6</td>\n",
       "    </tr>\n",
       "    <tr>\n",
       "      <th>4</th>\n",
       "      <td>1515915625468061170</td>\n",
       "      <td>4</td>\n",
       "      <td>3</td>\n",
       "      <td>3</td>\n",
       "      <td>19</td>\n",
       "      <td>33601.0</td>\n",
       "      <td>244</td>\n",
       "    </tr>\n",
       "  </tbody>\n",
       "</table>\n",
       "</div>"
      ],
      "text/plain": [
       "             client_id main_category  date_count  message_total  \\\n",
       "0  1515915625468060902             4           1              1   \n",
       "1  1515915625468061003             4           1              1   \n",
       "2  1515915625468061099             4           1              1   \n",
       "3  1515915625468061100             4           1              1   \n",
       "4  1515915625468061170             4           3              3   \n",
       "\n",
       "   total_quantity  total_price  days_to_last  \n",
       "0               7       6993.0           630  \n",
       "1               7      16235.0           408  \n",
       "2               1        299.0           640  \n",
       "3               2       2098.0             6  \n",
       "4              19      33601.0           244  "
      ]
     },
     "execution_count": 48,
     "metadata": {},
     "output_type": "execute_result"
    }
   ],
   "source": [
    "purch_pivot.head()"
   ]
  },
  {
   "cell_type": "code",
   "execution_count": 49,
   "id": "16cc633f",
   "metadata": {},
   "outputs": [
    {
     "name": "stdout",
     "output_type": "stream",
     "text": [
      "<class 'pandas.core.frame.DataFrame'>\n",
      "RangeIndex: 49849 entries, 0 to 49848\n",
      "Data columns (total 7 columns):\n",
      " #   Column          Non-Null Count  Dtype  \n",
      "---  ------          --------------  -----  \n",
      " 0   client_id       49849 non-null  int64  \n",
      " 1   main_category   49849 non-null  object \n",
      " 2   date_count      49849 non-null  int64  \n",
      " 3   message_total   49849 non-null  int64  \n",
      " 4   total_quantity  49849 non-null  int64  \n",
      " 5   total_price     49849 non-null  float64\n",
      " 6   days_to_last    49849 non-null  int64  \n",
      "dtypes: float64(1), int64(5), object(1)\n",
      "memory usage: 2.7+ MB\n"
     ]
    }
   ],
   "source": [
    "purch_pivot.info()"
   ]
  },
  {
   "cell_type": "markdown",
   "id": "895c3722",
   "metadata": {},
   "source": [
    "Объединим датасеты purch_pivot и target"
   ]
  },
  {
   "cell_type": "code",
   "execution_count": 50,
   "id": "ed250949",
   "metadata": {},
   "outputs": [],
   "source": [
    "purch_pivot = purch_pivot.merge(target, on = 'client_id')"
   ]
  },
  {
   "cell_type": "code",
   "execution_count": 51,
   "id": "f3ac8bc0",
   "metadata": {
    "scrolled": true
   },
   "outputs": [
    {
     "data": {
      "text/html": [
       "<div>\n",
       "<style scoped>\n",
       "    .dataframe tbody tr th:only-of-type {\n",
       "        vertical-align: middle;\n",
       "    }\n",
       "\n",
       "    .dataframe tbody tr th {\n",
       "        vertical-align: top;\n",
       "    }\n",
       "\n",
       "    .dataframe thead th {\n",
       "        text-align: right;\n",
       "    }\n",
       "</style>\n",
       "<table border=\"1\" class=\"dataframe\">\n",
       "  <thead>\n",
       "    <tr style=\"text-align: right;\">\n",
       "      <th></th>\n",
       "      <th>client_id</th>\n",
       "      <th>main_category</th>\n",
       "      <th>date_count</th>\n",
       "      <th>message_total</th>\n",
       "      <th>total_quantity</th>\n",
       "      <th>total_price</th>\n",
       "      <th>days_to_last</th>\n",
       "      <th>target</th>\n",
       "    </tr>\n",
       "  </thead>\n",
       "  <tbody>\n",
       "    <tr>\n",
       "      <th>0</th>\n",
       "      <td>1515915625468060902</td>\n",
       "      <td>4</td>\n",
       "      <td>1</td>\n",
       "      <td>1</td>\n",
       "      <td>7</td>\n",
       "      <td>6993.0</td>\n",
       "      <td>630</td>\n",
       "      <td>0</td>\n",
       "    </tr>\n",
       "    <tr>\n",
       "      <th>1</th>\n",
       "      <td>1515915625468061003</td>\n",
       "      <td>4</td>\n",
       "      <td>1</td>\n",
       "      <td>1</td>\n",
       "      <td>7</td>\n",
       "      <td>16235.0</td>\n",
       "      <td>408</td>\n",
       "      <td>1</td>\n",
       "    </tr>\n",
       "    <tr>\n",
       "      <th>2</th>\n",
       "      <td>1515915625468061099</td>\n",
       "      <td>4</td>\n",
       "      <td>1</td>\n",
       "      <td>1</td>\n",
       "      <td>1</td>\n",
       "      <td>299.0</td>\n",
       "      <td>640</td>\n",
       "      <td>0</td>\n",
       "    </tr>\n",
       "    <tr>\n",
       "      <th>3</th>\n",
       "      <td>1515915625468061100</td>\n",
       "      <td>4</td>\n",
       "      <td>1</td>\n",
       "      <td>1</td>\n",
       "      <td>2</td>\n",
       "      <td>2098.0</td>\n",
       "      <td>6</td>\n",
       "      <td>0</td>\n",
       "    </tr>\n",
       "    <tr>\n",
       "      <th>4</th>\n",
       "      <td>1515915625468061170</td>\n",
       "      <td>4</td>\n",
       "      <td>3</td>\n",
       "      <td>3</td>\n",
       "      <td>19</td>\n",
       "      <td>33601.0</td>\n",
       "      <td>244</td>\n",
       "      <td>0</td>\n",
       "    </tr>\n",
       "  </tbody>\n",
       "</table>\n",
       "</div>"
      ],
      "text/plain": [
       "             client_id main_category  date_count  message_total  \\\n",
       "0  1515915625468060902             4           1              1   \n",
       "1  1515915625468061003             4           1              1   \n",
       "2  1515915625468061099             4           1              1   \n",
       "3  1515915625468061100             4           1              1   \n",
       "4  1515915625468061170             4           3              3   \n",
       "\n",
       "   total_quantity  total_price  days_to_last  target  \n",
       "0               7       6993.0           630       0  \n",
       "1               7      16235.0           408       1  \n",
       "2               1        299.0           640       0  \n",
       "3               2       2098.0             6       0  \n",
       "4              19      33601.0           244       0  "
      ]
     },
     "execution_count": 51,
     "metadata": {},
     "output_type": "execute_result"
    }
   ],
   "source": [
    "purch_pivot.head()"
   ]
  },
  {
   "cell_type": "markdown",
   "id": "9fa0a647",
   "metadata": {},
   "source": [
    "## Корреляционный анализ"
   ]
  },
  {
   "cell_type": "markdown",
   "id": "0e78759d",
   "metadata": {},
   "source": [
    "Проведем корреляционный анализ"
   ]
  },
  {
   "cell_type": "code",
   "execution_count": 52,
   "id": "9613def0",
   "metadata": {},
   "outputs": [
    {
     "data": {
      "image/png": "[encoded data removed]",
      "text/plain": [
       "<Figure size 2000x1500 with 2 Axes>"
      ]
     },
     "metadata": {},
     "output_type": "display_data"
    }
   ],
   "source": [
    "interval_cols =purch_pivot.select_dtypes(include='number').columns.tolist()[1:]\n",
    "phik_overview = phik_matrix(purch_pivot.drop('client_id', axis=1), interval_cols=interval_cols) \n",
    "plot_correlation_matrix(\n",
    "    phik_overview.values,\n",
    "    x_labels=phik_overview.columns,\n",
    "    y_labels=phik_overview.index,\n",
    "    vmin=0, vmax=1, color_map='Greens',\n",
    "    title=r'correlation $\\phi_K$',\n",
    "    fontsize_factor=1.5,\n",
    "    figsize=(20, 15)\n",
    ") "
   ]
  },
  {
   "cell_type": "markdown",
   "id": "4d5d8d9d",
   "metadata": {},
   "source": [
    "Выявлена высокая степень коллинеарности между признаками количество дат покупок и общее число сообщений."
   ]
  },
  {
   "cell_type": "code",
   "execution_count": 53,
   "id": "42dab2d2",
   "metadata": {},
   "outputs": [],
   "source": [
    "%xdel messages"
   ]
  },
  {
   "cell_type": "code",
   "execution_count": 54,
   "id": "dc5028d1",
   "metadata": {},
   "outputs": [
    {
     "data": {
      "image/png": "[encoded data removed]",
      "text/plain": [
       "<Figure size 2000x1500 with 2 Axes>"
      ]
     },
     "metadata": {},
     "output_type": "display_data"
    }
   ],
   "source": [
    "interval_cols =purch_pivot.select_dtypes(include='number').columns.tolist()[1:]\n",
    "phik_overview = phik_matrix(purch_pivot.drop(['client_id', 'date_count'], axis=1), interval_cols=interval_cols) \n",
    "plot_correlation_matrix(\n",
    "    phik_overview.values,\n",
    "    x_labels=phik_overview.columns,\n",
    "    y_labels=phik_overview.index,\n",
    "    vmin=0, vmax=1, color_map='Greens',\n",
    "    title=r'correlation $\\phi_K$',\n",
    "    fontsize_factor=1.5,\n",
    "    figsize=(20, 15)\n",
    ") "
   ]
  },
  {
   "cell_type": "markdown",
   "id": "11b2dcb5",
   "metadata": {},
   "source": [
    "## Обучение моделей"
   ]
  },
  {
   "cell_type": "code",
   "execution_count": 55,
   "id": "034e53eb",
   "metadata": {},
   "outputs": [],
   "source": [
    "X = purch_pivot.drop(['target', 'client_id', 'date_count'], axis=1)\n",
    "y = purch_pivot['target']\n",
    "\n",
    "X_train, X_test, y_train, y_test = train_test_split(\n",
    "    X,\n",
    "    y,\n",
    "    test_size = TEST_SIZE, \n",
    "    random_state = RANDOM_STATE,\n",
    "    stratify = y)"
   ]
  },
  {
   "cell_type": "code",
   "execution_count": 56,
   "id": "cc86299c",
   "metadata": {},
   "outputs": [],
   "source": [
    "cat_cols = X.select_dtypes(exclude='number').columns.tolist()\n",
    "num_cols = X.select_dtypes(include='number').columns.tolist()"
   ]
  },
  {
   "cell_type": "code",
   "execution_count": 57,
   "id": "8a91d822",
   "metadata": {},
   "outputs": [
    {
     "data": {
      "text/plain": [
       "['main_category']"
      ]
     },
     "execution_count": 57,
     "metadata": {},
     "output_type": "execute_result"
    }
   ],
   "source": [
    "cat_cols"
   ]
  },
  {
   "cell_type": "code",
   "execution_count": 58,
   "id": "fd5315d9",
   "metadata": {},
   "outputs": [],
   "source": [
    "ohe_pipe = Pipeline(\n",
    "    [('simpleImputer_ohe', SimpleImputer(missing_values=np.nan, strategy='most_frequent')),\n",
    "     ('ohe', OneHotEncoder(drop='first', handle_unknown='ignore', sparse_output=False))\n",
    "    ]\n",
    "    )\n",
    "\n",
    "ord_pipe = Pipeline(\n",
    "    [('simpleImputer_before_ord', SimpleImputer(missing_values=np.nan, strategy='most_frequent')),\n",
    "     ('ord',  OrdinalEncoder(handle_unknown='use_encoded_value', unknown_value=np.nan)),\n",
    "     ('simpleImputer_after_ord', SimpleImputer(missing_values=np.nan, strategy='most_frequent'))\n",
    "    ]\n",
    ")\n",
    "\n",
    "data_preprocessor = ColumnTransformer(\n",
    "    [('cat', ohe_pipe, cat_cols),\n",
    "     ('num', MinMaxScaler(), num_cols)\n",
    "    ], \n",
    "    remainder='passthrough'\n",
    ")\n",
    "\n",
    "pipe_final = Pipeline([\n",
    "    ('preprocessor', data_preprocessor),\n",
    "    ('models', DecisionTreeClassifier(random_state=RANDOM_STATE))\n",
    "])"
   ]
  },
  {
   "cell_type": "code",
   "execution_count": 59,
   "id": "a5808fef",
   "metadata": {},
   "outputs": [],
   "source": [
    "param_distributions = [\n",
    "    {\n",
    "        'models': [KNeighborsClassifier()],\n",
    "        'models__n_neighbors': range(5, 20),\n",
    "        'preprocessor__num': [StandardScaler(), MinMaxScaler(), 'passthrough'],\n",
    "        'preprocessor__cat': [ohe_pipe, ord_pipe, 'passthrough']\n",
    "    },\n",
    "    {\n",
    "        'models': [DecisionTreeClassifier(class_weight='balanced', random_state=RANDOM_STATE)],\n",
    "        'models__max_depth': range(2, 11),\n",
    "        'models__min_samples_split': range(2,7),\n",
    "        'models__min_samples_leaf': range(1,5),\n",
    "        'preprocessor__num': [StandardScaler(), MinMaxScaler(), 'passthrough'],\n",
    "        'preprocessor__cat': [ohe_pipe, ord_pipe, 'passthrough']\n",
    "    },\n",
    "    {\n",
    "        'models': [LogisticRegression(random_state=RANDOM_STATE, class_weight='balanced')],\n",
    "        'models__penalty': ['l1', 'l2', 'elasticnet', 'None'],\n",
    "        'models__C': np.linspace(0, 20, 20),\n",
    "        'models__max_iter': [100, 200, 500, 1000],\n",
    "        'preprocessor__num': [StandardScaler(), MinMaxScaler(), 'passthrough'],\n",
    "        'preprocessor__cat': [ohe_pipe, ord_pipe, 'passthrough']\n",
    "     }\n",
    "] "
   ]
  },
  {
   "cell_type": "code",
   "execution_count": 60,
   "id": "bce64674",
   "metadata": {},
   "outputs": [],
   "source": [
    "grid = GridSearchCV(\n",
    "    pipe_final, \n",
    "    param_grid=param_distributions, \n",
    "    cv=5, \n",
    "    scoring='roc_auc', \n",
    "    n_jobs=-1, \n",
    ")"
   ]
  },
  {
   "cell_type": "code",
   "execution_count": 61,
   "id": "eac7ca1c",
   "metadata": {
    "scrolled": true
   },
   "outputs": [
    {
     "data": {
      "text/html": [
       "<style>#sk-container-id-1 {color: black;background-color: white;}#sk-container-id-1 pre{padding: 0;}#sk-container-id-1 div.sk-toggleable {background-color: white;}#sk-container-id-1 label.sk-toggleable__label {cursor: pointer;display: block;width: 100%;margin-bottom: 0;padding: 0.3em;box-sizing: border-box;text-align: center;}#sk-container-id-1 label.sk-toggleable__label-arrow:before {content: \"▸\";float: left;margin-right: 0.25em;color: #696969;}#sk-container-id-1 label.sk-toggleable__label-arrow:hover:before {color: black;}#sk-container-id-1 div.sk-estimator:hover label.sk-toggleable__label-arrow:before {color: black;}#sk-container-id-1 div.sk-toggleable__content {max-height: 0;max-width: 0;overflow: hidden;text-align: left;background-color: #f0f8ff;}#sk-container-id-1 div.sk-toggleable__content pre {margin: 0.2em;color: black;border-radius: 0.25em;background-color: #f0f8ff;}#sk-container-id-1 input.sk-toggleable__control:checked~div.sk-toggleable__content {max-height: 200px;max-width: 100%;overflow: auto;}#sk-container-id-1 input.sk-toggleable__control:checked~label.sk-toggleable__label-arrow:before {content: \"▾\";}#sk-container-id-1 div.sk-estimator input.sk-toggleable__control:checked~label.sk-toggleable__label {background-color: #d4ebff;}#sk-container-id-1 div.sk-label input.sk-toggleable__control:checked~label.sk-toggleable__label {background-color: #d4ebff;}#sk-container-id-1 input.sk-hidden--visually {border: 0;clip: rect(1px 1px 1px 1px);clip: rect(1px, 1px, 1px, 1px);height: 1px;margin: -1px;overflow: hidden;padding: 0;position: absolute;width: 1px;}#sk-container-id-1 div.sk-estimator {font-family: monospace;background-color: #f0f8ff;border: 1px dotted black;border-radius: 0.25em;box-sizing: border-box;margin-bottom: 0.5em;}#sk-container-id-1 div.sk-estimator:hover {background-color: #d4ebff;}#sk-container-id-1 div.sk-parallel-item::after {content: \"\";width: 100%;border-bottom: 1px solid gray;flex-grow: 1;}#sk-container-id-1 div.sk-label:hover label.sk-toggleable__label {background-color: #d4ebff;}#sk-container-id-1 div.sk-serial::before {content: \"\";position: absolute;border-left: 1px solid gray;box-sizing: border-box;top: 0;bottom: 0;left: 50%;z-index: 0;}#sk-container-id-1 div.sk-serial {display: flex;flex-direction: column;align-items: center;background-color: white;padding-right: 0.2em;padding-left: 0.2em;position: relative;}#sk-container-id-1 div.sk-item {position: relative;z-index: 1;}#sk-container-id-1 div.sk-parallel {display: flex;align-items: stretch;justify-content: center;background-color: white;position: relative;}#sk-container-id-1 div.sk-item::before, #sk-container-id-1 div.sk-parallel-item::before {content: \"\";position: absolute;border-left: 1px solid gray;box-sizing: border-box;top: 0;bottom: 0;left: 50%;z-index: -1;}#sk-container-id-1 div.sk-parallel-item {display: flex;flex-direction: column;z-index: 1;position: relative;background-color: white;}#sk-container-id-1 div.sk-parallel-item:first-child::after {align-self: flex-end;width: 50%;}#sk-container-id-1 div.sk-parallel-item:last-child::after {align-self: flex-start;width: 50%;}#sk-container-id-1 div.sk-parallel-item:only-child::after {width: 0;}#sk-container-id-1 div.sk-dashed-wrapped {border: 1px dashed gray;margin: 0 0.4em 0.5em 0.4em;box-sizing: border-box;padding-bottom: 0.4em;background-color: white;}#sk-container-id-1 div.sk-label label {font-family: monospace;font-weight: bold;display: inline-block;line-height: 1.2em;}#sk-container-id-1 div.sk-label-container {text-align: center;}#sk-container-id-1 div.sk-container {/* jupyter's `normalize.less` sets `[hidden] { display: none; }` but bootstrap.min.css set `[hidden] { display: none !important; }` so we also need the `!important` here to be able to override the default hidden behavior on the sphinx rendered scikit-learn.org. See: https://github.com/scikit-learn/scikit-learn/issues/21755 */display: inline-block !important;position: relative;}#sk-container-id-1 div.sk-text-repr-fallback {display: none;}</style><div id=\"sk-container-id-1\" class=\"sk-top-container\"><div class=\"sk-text-repr-fallback\"><pre>GridSearchCV(cv=5,\n",
       "             estimator=Pipeline(steps=[(&#x27;preprocessor&#x27;,\n",
       "                                        ColumnTransformer(remainder=&#x27;passthrough&#x27;,\n",
       "                                                          transformers=[(&#x27;cat&#x27;,\n",
       "                                                                         Pipeline(steps=[(&#x27;simpleImputer_ohe&#x27;,\n",
       "                                                                                          SimpleImputer(strategy=&#x27;most_frequent&#x27;)),\n",
       "                                                                                         (&#x27;ohe&#x27;,\n",
       "                                                                                          OneHotEncoder(drop=&#x27;first&#x27;,\n",
       "                                                                                                        handle_unknown=&#x27;ignore&#x27;,\n",
       "                                                                                                        sparse_output=False))]),\n",
       "                                                                         [&#x27;main_category&#x27;]),\n",
       "                                                                        (&#x27;num&#x27;,\n",
       "                                                                         MinMaxScaler(),\n",
       "                                                                         [&#x27;message_total&#x27;,\n",
       "                                                                          &#x27;total_qu...\n",
       "                                                                               sparse_output=False))]),\n",
       "                                                Pipeline(steps=[(&#x27;simpleImputer_before_ord&#x27;,\n",
       "                                                                 SimpleImputer(strategy=&#x27;most_frequent&#x27;)),\n",
       "                                                                (&#x27;ord&#x27;,\n",
       "                                                                 OrdinalEncoder(handle_unknown=&#x27;use_encoded_value&#x27;,\n",
       "                                                                                unknown_value=nan)),\n",
       "                                                                (&#x27;simpleImputer_after_ord&#x27;,\n",
       "                                                                 SimpleImputer(strategy=&#x27;most_frequent&#x27;))]),\n",
       "                                                &#x27;passthrough&#x27;],\n",
       "                          &#x27;preprocessor__num&#x27;: [StandardScaler(),\n",
       "                                                MinMaxScaler(),\n",
       "                                                &#x27;passthrough&#x27;]}],\n",
       "             scoring=&#x27;roc_auc&#x27;)</pre><b>In a Jupyter environment, please rerun this cell to show the HTML representation or trust the notebook. <br />On GitHub, the HTML representation is unable to render, please try loading this page with nbviewer.org.</b></div><div class=\"sk-container\" hidden><div class=\"sk-item sk-dashed-wrapped\"><div class=\"sk-label-container\"><div class=\"sk-label sk-toggleable\"><input class=\"sk-toggleable__control sk-hidden--visually\" id=\"sk-estimator-id-1\" type=\"checkbox\" ><label for=\"sk-estimator-id-1\" class=\"sk-toggleable__label sk-toggleable__label-arrow\">GridSearchCV</label><div class=\"sk-toggleable__content\"><pre>GridSearchCV(cv=5,\n",
       "             estimator=Pipeline(steps=[(&#x27;preprocessor&#x27;,\n",
       "                                        ColumnTransformer(remainder=&#x27;passthrough&#x27;,\n",
       "                                                          transformers=[(&#x27;cat&#x27;,\n",
       "                                                                         Pipeline(steps=[(&#x27;simpleImputer_ohe&#x27;,\n",
       "                                                                                          SimpleImputer(strategy=&#x27;most_frequent&#x27;)),\n",
       "                                                                                         (&#x27;ohe&#x27;,\n",
       "                                                                                          OneHotEncoder(drop=&#x27;first&#x27;,\n",
       "                                                                                                        handle_unknown=&#x27;ignore&#x27;,\n",
       "                                                                                                        sparse_output=False))]),\n",
       "                                                                         [&#x27;main_category&#x27;]),\n",
       "                                                                        (&#x27;num&#x27;,\n",
       "                                                                         MinMaxScaler(),\n",
       "                                                                         [&#x27;message_total&#x27;,\n",
       "                                                                          &#x27;total_qu...\n",
       "                                                                               sparse_output=False))]),\n",
       "                                                Pipeline(steps=[(&#x27;simpleImputer_before_ord&#x27;,\n",
       "                                                                 SimpleImputer(strategy=&#x27;most_frequent&#x27;)),\n",
       "                                                                (&#x27;ord&#x27;,\n",
       "                                                                 OrdinalEncoder(handle_unknown=&#x27;use_encoded_value&#x27;,\n",
       "                                                                                unknown_value=nan)),\n",
       "                                                                (&#x27;simpleImputer_after_ord&#x27;,\n",
       "                                                                 SimpleImputer(strategy=&#x27;most_frequent&#x27;))]),\n",
       "                                                &#x27;passthrough&#x27;],\n",
       "                          &#x27;preprocessor__num&#x27;: [StandardScaler(),\n",
       "                                                MinMaxScaler(),\n",
       "                                                &#x27;passthrough&#x27;]}],\n",
       "             scoring=&#x27;roc_auc&#x27;)</pre></div></div></div><div class=\"sk-parallel\"><div class=\"sk-parallel-item\"><div class=\"sk-item\"><div class=\"sk-label-container\"><div class=\"sk-label sk-toggleable\"><input class=\"sk-toggleable__control sk-hidden--visually\" id=\"sk-estimator-id-2\" type=\"checkbox\" ><label for=\"sk-estimator-id-2\" class=\"sk-toggleable__label sk-toggleable__label-arrow\">estimator: Pipeline</label><div class=\"sk-toggleable__content\"><pre>Pipeline(steps=[(&#x27;preprocessor&#x27;,\n",
       "                 ColumnTransformer(remainder=&#x27;passthrough&#x27;,\n",
       "                                   transformers=[(&#x27;cat&#x27;,\n",
       "                                                  Pipeline(steps=[(&#x27;simpleImputer_ohe&#x27;,\n",
       "                                                                   SimpleImputer(strategy=&#x27;most_frequent&#x27;)),\n",
       "                                                                  (&#x27;ohe&#x27;,\n",
       "                                                                   OneHotEncoder(drop=&#x27;first&#x27;,\n",
       "                                                                                 handle_unknown=&#x27;ignore&#x27;,\n",
       "                                                                                 sparse_output=False))]),\n",
       "                                                  [&#x27;main_category&#x27;]),\n",
       "                                                 (&#x27;num&#x27;, MinMaxScaler(),\n",
       "                                                  [&#x27;message_total&#x27;,\n",
       "                                                   &#x27;total_quantity&#x27;,\n",
       "                                                   &#x27;total_price&#x27;,\n",
       "                                                   &#x27;days_to_last&#x27;])])),\n",
       "                (&#x27;models&#x27;, DecisionTreeClassifier(random_state=42))])</pre></div></div></div><div class=\"sk-serial\"><div class=\"sk-item\"><div class=\"sk-serial\"><div class=\"sk-item sk-dashed-wrapped\"><div class=\"sk-label-container\"><div class=\"sk-label sk-toggleable\"><input class=\"sk-toggleable__control sk-hidden--visually\" id=\"sk-estimator-id-3\" type=\"checkbox\" ><label for=\"sk-estimator-id-3\" class=\"sk-toggleable__label sk-toggleable__label-arrow\">preprocessor: ColumnTransformer</label><div class=\"sk-toggleable__content\"><pre>ColumnTransformer(remainder=&#x27;passthrough&#x27;,\n",
       "                  transformers=[(&#x27;cat&#x27;,\n",
       "                                 Pipeline(steps=[(&#x27;simpleImputer_ohe&#x27;,\n",
       "                                                  SimpleImputer(strategy=&#x27;most_frequent&#x27;)),\n",
       "                                                 (&#x27;ohe&#x27;,\n",
       "                                                  OneHotEncoder(drop=&#x27;first&#x27;,\n",
       "                                                                handle_unknown=&#x27;ignore&#x27;,\n",
       "                                                                sparse_output=False))]),\n",
       "                                 [&#x27;main_category&#x27;]),\n",
       "                                (&#x27;num&#x27;, MinMaxScaler(),\n",
       "                                 [&#x27;message_total&#x27;, &#x27;total_quantity&#x27;,\n",
       "                                  &#x27;total_price&#x27;, &#x27;days_to_last&#x27;])])</pre></div></div></div><div class=\"sk-parallel\"><div class=\"sk-parallel-item\"><div class=\"sk-item\"><div class=\"sk-label-container\"><div class=\"sk-label sk-toggleable\"><input class=\"sk-toggleable__control sk-hidden--visually\" id=\"sk-estimator-id-4\" type=\"checkbox\" ><label for=\"sk-estimator-id-4\" class=\"sk-toggleable__label sk-toggleable__label-arrow\">cat</label><div class=\"sk-toggleable__content\"><pre>[&#x27;main_category&#x27;]</pre></div></div></div><div class=\"sk-serial\"><div class=\"sk-item\"><div class=\"sk-serial\"><div class=\"sk-item\"><div class=\"sk-estimator sk-toggleable\"><input class=\"sk-toggleable__control sk-hidden--visually\" id=\"sk-estimator-id-5\" type=\"checkbox\" ><label for=\"sk-estimator-id-5\" class=\"sk-toggleable__label sk-toggleable__label-arrow\">SimpleImputer</label><div class=\"sk-toggleable__content\"><pre>SimpleImputer(strategy=&#x27;most_frequent&#x27;)</pre></div></div></div><div class=\"sk-item\"><div class=\"sk-estimator sk-toggleable\"><input class=\"sk-toggleable__control sk-hidden--visually\" id=\"sk-estimator-id-6\" type=\"checkbox\" ><label for=\"sk-estimator-id-6\" class=\"sk-toggleable__label sk-toggleable__label-arrow\">OneHotEncoder</label><div class=\"sk-toggleable__content\"><pre>OneHotEncoder(drop=&#x27;first&#x27;, handle_unknown=&#x27;ignore&#x27;, sparse_output=False)</pre></div></div></div></div></div></div></div></div><div class=\"sk-parallel-item\"><div class=\"sk-item\"><div class=\"sk-label-container\"><div class=\"sk-label sk-toggleable\"><input class=\"sk-toggleable__control sk-hidden--visually\" id=\"sk-estimator-id-7\" type=\"checkbox\" ><label for=\"sk-estimator-id-7\" class=\"sk-toggleable__label sk-toggleable__label-arrow\">num</label><div class=\"sk-toggleable__content\"><pre>[&#x27;message_total&#x27;, &#x27;total_quantity&#x27;, &#x27;total_price&#x27;, &#x27;days_to_last&#x27;]</pre></div></div></div><div class=\"sk-serial\"><div class=\"sk-item\"><div class=\"sk-estimator sk-toggleable\"><input class=\"sk-toggleable__control sk-hidden--visually\" id=\"sk-estimator-id-8\" type=\"checkbox\" ><label for=\"sk-estimator-id-8\" class=\"sk-toggleable__label sk-toggleable__label-arrow\">MinMaxScaler</label><div class=\"sk-toggleable__content\"><pre>MinMaxScaler()</pre></div></div></div></div></div></div><div class=\"sk-parallel-item\"><div class=\"sk-item\"><div class=\"sk-label-container\"><div class=\"sk-label sk-toggleable\"><input class=\"sk-toggleable__control sk-hidden--visually\" id=\"sk-estimator-id-9\" type=\"checkbox\" ><label for=\"sk-estimator-id-9\" class=\"sk-toggleable__label sk-toggleable__label-arrow\">remainder</label><div class=\"sk-toggleable__content\"><pre></pre></div></div></div><div class=\"sk-serial\"><div class=\"sk-item\"><div class=\"sk-estimator sk-toggleable\"><input class=\"sk-toggleable__control sk-hidden--visually\" id=\"sk-estimator-id-10\" type=\"checkbox\" ><label for=\"sk-estimator-id-10\" class=\"sk-toggleable__label sk-toggleable__label-arrow\">passthrough</label><div class=\"sk-toggleable__content\"><pre>passthrough</pre></div></div></div></div></div></div></div></div><div class=\"sk-item\"><div class=\"sk-estimator sk-toggleable\"><input class=\"sk-toggleable__control sk-hidden--visually\" id=\"sk-estimator-id-11\" type=\"checkbox\" ><label for=\"sk-estimator-id-11\" class=\"sk-toggleable__label sk-toggleable__label-arrow\">DecisionTreeClassifier</label><div class=\"sk-toggleable__content\"><pre>DecisionTreeClassifier(random_state=42)</pre></div></div></div></div></div></div></div></div></div></div></div></div>"
      ],
      "text/plain": [
       "GridSearchCV(cv=5,\n",
       "             estimator=Pipeline(steps=[('preprocessor',\n",
       "                                        ColumnTransformer(remainder='passthrough',\n",
       "                                                          transformers=[('cat',\n",
       "                                                                         Pipeline(steps=[('simpleImputer_ohe',\n",
       "                                                                                          SimpleImputer(strategy='most_frequent')),\n",
       "                                                                                         ('ohe',\n",
       "                                                                                          OneHotEncoder(drop='first',\n",
       "                                                                                                        handle_unknown='ignore',\n",
       "                                                                                                        sparse_output=False))]),\n",
       "                                                                         ['main_category']),\n",
       "                                                                        ('num',\n",
       "                                                                         MinMaxScaler(),\n",
       "                                                                         ['message_total',\n",
       "                                                                          'total_qu...\n",
       "                                                                               sparse_output=False))]),\n",
       "                                                Pipeline(steps=[('simpleImputer_before_ord',\n",
       "                                                                 SimpleImputer(strategy='most_frequent')),\n",
       "                                                                ('ord',\n",
       "                                                                 OrdinalEncoder(handle_unknown='use_encoded_value',\n",
       "                                                                                unknown_value=nan)),\n",
       "                                                                ('simpleImputer_after_ord',\n",
       "                                                                 SimpleImputer(strategy='most_frequent'))]),\n",
       "                                                'passthrough'],\n",
       "                          'preprocessor__num': [StandardScaler(),\n",
       "                                                MinMaxScaler(),\n",
       "                                                'passthrough']}],\n",
       "             scoring='roc_auc')"
      ]
     },
     "execution_count": 61,
     "metadata": {},
     "output_type": "execute_result"
    }
   ],
   "source": [
    "grid.fit(X_train, y_train)"
   ]
  },
  {
   "cell_type": "code",
   "execution_count": 62,
   "id": "9a6402ff",
   "metadata": {
    "scrolled": true
   },
   "outputs": [
    {
     "data": {
      "text/plain": [
       "{'models': LogisticRegression(C=7.368421052631579, class_weight='balanced',\n",
       "                    random_state=42),\n",
       " 'models__C': 7.368421052631579,\n",
       " 'models__max_iter': 100,\n",
       " 'models__penalty': 'l2',\n",
       " 'preprocessor__cat': 'passthrough',\n",
       " 'preprocessor__num': StandardScaler()}"
      ]
     },
     "execution_count": 62,
     "metadata": {},
     "output_type": "execute_result"
    }
   ],
   "source": [
    "grid.best_params_"
   ]
  },
  {
   "cell_type": "code",
   "execution_count": 63,
   "id": "174c8b55",
   "metadata": {},
   "outputs": [
    {
     "name": "stdout",
     "output_type": "stream",
     "text": [
      "Значение метрики roc_auc на тренировочной выборке лучшей модели равняется 0.69\n"
     ]
    }
   ],
   "source": [
    "print(f'Значение метрики roc_auc на тренировочной выборке лучшей модели равняется {grid.best_score_:.2f}')"
   ]
  },
  {
   "cell_type": "code",
   "execution_count": 64,
   "id": "a8c499f1",
   "metadata": {},
   "outputs": [
    {
     "name": "stdout",
     "output_type": "stream",
     "text": [
      "Значение метрики roc_auc на тестовой выборке лучшей модели равняется 0.70\n"
     ]
    }
   ],
   "source": [
    "print(f'Значение метрики roc_auc на тестовой выборке лучшей модели равняется {roc_auc_score(y_test, grid.predict_proba(X_test)[:, 1]):.2f}')"
   ]
  },
  {
   "cell_type": "markdown",
   "id": "03bcbdd9",
   "metadata": {},
   "source": [
    "Оценим значимость признаков"
   ]
  },
  {
   "cell_type": "code",
   "execution_count": 65,
   "id": "75239f66",
   "metadata": {},
   "outputs": [
    {
     "name": "stdout",
     "output_type": "stream",
     "text": [
      "[[-1.75899187e-05  3.64626314e-01  1.43828575e-01 -6.67126460e-02\n",
      "  -4.25688875e-01]]\n"
     ]
    }
   ],
   "source": [
    "print(grid.best_estimator_['models'].coef_)"
   ]
  },
  {
   "cell_type": "code",
   "execution_count": 66,
   "id": "36d3d829",
   "metadata": {},
   "outputs": [
    {
     "data": {
      "image/png": "[encoded data removed]",
      "text/plain": [
       "<Figure size 1200x1200 with 1 Axes>"
      ]
     },
     "metadata": {},
     "output_type": "display_data"
    }
   ],
   "source": [
    "features = X_train.columns\n",
    "importance =grid.best_estimator_['models'].coef_[0]\n",
    "plt.figure(figsize=(12,12))\n",
    "plt.bar(features, importance)\n",
    "plt.show()\n"
   ]
  },
  {
   "cell_type": "markdown",
   "id": "a5558af7",
   "metadata": {},
   "source": [
    "Наиболее важные признаки: общее количество сообщений пользователю (чем больше, тем выше шанс покупки) и время прошедшее с последней покупки (чем больше времени прошло, тем меньше шанс покуки)."
   ]
  },
  {
   "cell_type": "markdown",
   "id": "f0b3c31f",
   "metadata": {},
   "source": [
    "## Выводы"
   ]
  },
  {
   "cell_type": "markdown",
   "id": "f9679a6e",
   "metadata": {},
   "source": [
    "На основании представленных данных был постоен сводный датасет по всем клиентам из целевого датасета со следующими признаками:\n",
    "- основная категория закупок пользователя,\n",
    "- общее число сообщений пользователю,\n",
    "- общее количество единиц товара купленных пользователем,\n",
    "- общая сумма покупок пользователя, \n",
    "- время с последней покупки пользователя.\n",
    "\n",
    "Лучшая модель, предсказывающая поведение пользователя, - модель логистической регрессии с гиперпараметрами 'models__C': 7.368421052631579, 'models__penalty': 'l2'. Значение метрики ROC_AUC лучшей модели на тестовых данных равно 0.7.\n",
    "Наиболее важные признаки - общее число сообщений пользователю и время с последней покупки пользователя.\n"
   ]
  },
  {
   "cell_type": "code",
   "execution_count": null,
   "id": "0cc0e952",
   "metadata": {},
   "outputs": [],
   "source": []
  }
 ],
 "metadata": {
  "kernelspec": {
   "display_name": "Python 3 (ipykernel)",
   "language": "python",
   "name": "python3"
  },
  "language_info": {
   "codemirror_mode": {
    "name": "ipython",
    "version": 3
   },
   "file_extension": ".py",
   "mimetype": "text/x-python",
   "name": "python",
   "nbconvert_exporter": "python",
   "pygments_lexer": "ipython3",
   "version": "3.11.5"
  },
  "toc": {
   "base_numbering": 1,
   "nav_menu": {},
   "number_sections": true,
   "sideBar": true,
   "skip_h1_title": true,
   "title_cell": "Table of Contents",
   "title_sidebar": "Contents",
   "toc_cell": true,
   "toc_position": {
    "height": "calc(100% - 180px)",
    "left": "10px",
    "top": "150px",
    "width": "428.646px"
   },
   "toc_section_display": true,
   "toc_window_display": true
  }
 },
 "nbformat": 4,
 "nbformat_minor": 5
}
